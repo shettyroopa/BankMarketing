{
 "cells": [
  {
   "cell_type": "markdown",
   "id": "4e2712d6",
   "metadata": {},
   "source": [
    "# Exploratory Data Analysis and Model Building - Bank Marketing Campaign\n",
    "Data Description\n",
    "\n",
    "This is the classic marketing bank dataset uploaded originally in the UCI Machine Learning Repository. The dataset gives you information about a marketing campaign of a financial institution in which you will have to analyze in order to find ways to look for future strategies in order to improve future marketing campaigns for the bank.\n",
    "\n",
    "Kaggle URL to Download Dataset: https://www.kaggle.com/janiobachmann/bank-marketing-dataset\n",
    "\n",
    "What is a Term Deposit?\n",
    "\n",
    "A Term deposit is a deposit that a bank or a financial institurion offers with a fixed rate (often better than just opening deposit account) in which your money will be returned back at a specific maturity time. For more information with regards to Term Deposits please click on this link from Investopedia: https://www.investopedia.com/terms/t/termdeposit.asp"
   ]
  },
  {
   "cell_type": "markdown",
   "id": "0a94d235",
   "metadata": {},
   "source": [
    "Importing librarirs"
   ]
  },
  {
   "cell_type": "code",
   "execution_count": 2,
   "id": "c7d4ea2d",
   "metadata": {},
   "outputs": [],
   "source": [
    "import pandas as pd\n",
    "import numpy as np\n",
    "import matplotlib.pyplot as plt\n",
    "import seaborn as sns\n",
    "import warnings\n",
    "\n",
    "warnings.filterwarnings('ignore')"
   ]
  },
  {
   "cell_type": "markdown",
   "id": "4bfd980c",
   "metadata": {},
   "source": [
    "Load Dataset"
   ]
  },
  {
   "cell_type": "code",
   "execution_count": 3,
   "id": "721ef31d",
   "metadata": {},
   "outputs": [],
   "source": [
    "df = pd.read_csv('bank.csv')"
   ]
  },
  {
   "cell_type": "code",
   "execution_count": 4,
   "id": "aee04334",
   "metadata": {},
   "outputs": [
    {
     "data": {
      "text/html": [
       "<div>\n",
       "<style scoped>\n",
       "    .dataframe tbody tr th:only-of-type {\n",
       "        vertical-align: middle;\n",
       "    }\n",
       "\n",
       "    .dataframe tbody tr th {\n",
       "        vertical-align: top;\n",
       "    }\n",
       "\n",
       "    .dataframe thead th {\n",
       "        text-align: right;\n",
       "    }\n",
       "</style>\n",
       "<table border=\"1\" class=\"dataframe\">\n",
       "  <thead>\n",
       "    <tr style=\"text-align: right;\">\n",
       "      <th></th>\n",
       "      <th>age</th>\n",
       "      <th>job</th>\n",
       "      <th>marital</th>\n",
       "      <th>education</th>\n",
       "      <th>default</th>\n",
       "      <th>balance</th>\n",
       "      <th>housing</th>\n",
       "      <th>loan</th>\n",
       "      <th>contact</th>\n",
       "      <th>day</th>\n",
       "      <th>month</th>\n",
       "      <th>duration</th>\n",
       "      <th>campaign</th>\n",
       "      <th>pdays</th>\n",
       "      <th>previous</th>\n",
       "      <th>poutcome</th>\n",
       "      <th>deposit</th>\n",
       "    </tr>\n",
       "  </thead>\n",
       "  <tbody>\n",
       "    <tr>\n",
       "      <th>0</th>\n",
       "      <td>59</td>\n",
       "      <td>admin.</td>\n",
       "      <td>married</td>\n",
       "      <td>secondary</td>\n",
       "      <td>no</td>\n",
       "      <td>2343</td>\n",
       "      <td>yes</td>\n",
       "      <td>no</td>\n",
       "      <td>unknown</td>\n",
       "      <td>5</td>\n",
       "      <td>may</td>\n",
       "      <td>1042</td>\n",
       "      <td>1</td>\n",
       "      <td>-1</td>\n",
       "      <td>0</td>\n",
       "      <td>unknown</td>\n",
       "      <td>yes</td>\n",
       "    </tr>\n",
       "    <tr>\n",
       "      <th>1</th>\n",
       "      <td>56</td>\n",
       "      <td>admin.</td>\n",
       "      <td>married</td>\n",
       "      <td>secondary</td>\n",
       "      <td>no</td>\n",
       "      <td>45</td>\n",
       "      <td>no</td>\n",
       "      <td>no</td>\n",
       "      <td>unknown</td>\n",
       "      <td>5</td>\n",
       "      <td>may</td>\n",
       "      <td>1467</td>\n",
       "      <td>1</td>\n",
       "      <td>-1</td>\n",
       "      <td>0</td>\n",
       "      <td>unknown</td>\n",
       "      <td>yes</td>\n",
       "    </tr>\n",
       "    <tr>\n",
       "      <th>2</th>\n",
       "      <td>41</td>\n",
       "      <td>technician</td>\n",
       "      <td>married</td>\n",
       "      <td>secondary</td>\n",
       "      <td>no</td>\n",
       "      <td>1270</td>\n",
       "      <td>yes</td>\n",
       "      <td>no</td>\n",
       "      <td>unknown</td>\n",
       "      <td>5</td>\n",
       "      <td>may</td>\n",
       "      <td>1389</td>\n",
       "      <td>1</td>\n",
       "      <td>-1</td>\n",
       "      <td>0</td>\n",
       "      <td>unknown</td>\n",
       "      <td>yes</td>\n",
       "    </tr>\n",
       "    <tr>\n",
       "      <th>3</th>\n",
       "      <td>55</td>\n",
       "      <td>services</td>\n",
       "      <td>married</td>\n",
       "      <td>secondary</td>\n",
       "      <td>no</td>\n",
       "      <td>2476</td>\n",
       "      <td>yes</td>\n",
       "      <td>no</td>\n",
       "      <td>unknown</td>\n",
       "      <td>5</td>\n",
       "      <td>may</td>\n",
       "      <td>579</td>\n",
       "      <td>1</td>\n",
       "      <td>-1</td>\n",
       "      <td>0</td>\n",
       "      <td>unknown</td>\n",
       "      <td>yes</td>\n",
       "    </tr>\n",
       "    <tr>\n",
       "      <th>4</th>\n",
       "      <td>54</td>\n",
       "      <td>admin.</td>\n",
       "      <td>married</td>\n",
       "      <td>tertiary</td>\n",
       "      <td>no</td>\n",
       "      <td>184</td>\n",
       "      <td>no</td>\n",
       "      <td>no</td>\n",
       "      <td>unknown</td>\n",
       "      <td>5</td>\n",
       "      <td>may</td>\n",
       "      <td>673</td>\n",
       "      <td>2</td>\n",
       "      <td>-1</td>\n",
       "      <td>0</td>\n",
       "      <td>unknown</td>\n",
       "      <td>yes</td>\n",
       "    </tr>\n",
       "  </tbody>\n",
       "</table>\n",
       "</div>"
      ],
      "text/plain": [
       "   age         job  marital  education default  balance housing loan  contact  \\\n",
       "0   59      admin.  married  secondary      no     2343     yes   no  unknown   \n",
       "1   56      admin.  married  secondary      no       45      no   no  unknown   \n",
       "2   41  technician  married  secondary      no     1270     yes   no  unknown   \n",
       "3   55    services  married  secondary      no     2476     yes   no  unknown   \n",
       "4   54      admin.  married   tertiary      no      184      no   no  unknown   \n",
       "\n",
       "   day month  duration  campaign  pdays  previous poutcome deposit  \n",
       "0    5   may      1042         1     -1         0  unknown     yes  \n",
       "1    5   may      1467         1     -1         0  unknown     yes  \n",
       "2    5   may      1389         1     -1         0  unknown     yes  \n",
       "3    5   may       579         1     -1         0  unknown     yes  \n",
       "4    5   may       673         2     -1         0  unknown     yes  "
      ]
     },
     "execution_count": 4,
     "metadata": {},
     "output_type": "execute_result"
    }
   ],
   "source": [
    "df.head()"
   ]
  },
  {
   "cell_type": "code",
   "execution_count": 5,
   "id": "9d3d6c81",
   "metadata": {},
   "outputs": [
    {
     "data": {
      "text/html": [
       "<div>\n",
       "<style scoped>\n",
       "    .dataframe tbody tr th:only-of-type {\n",
       "        vertical-align: middle;\n",
       "    }\n",
       "\n",
       "    .dataframe tbody tr th {\n",
       "        vertical-align: top;\n",
       "    }\n",
       "\n",
       "    .dataframe thead th {\n",
       "        text-align: right;\n",
       "    }\n",
       "</style>\n",
       "<table border=\"1\" class=\"dataframe\">\n",
       "  <thead>\n",
       "    <tr style=\"text-align: right;\">\n",
       "      <th></th>\n",
       "      <th>age</th>\n",
       "      <th>balance</th>\n",
       "      <th>day</th>\n",
       "      <th>duration</th>\n",
       "      <th>campaign</th>\n",
       "      <th>pdays</th>\n",
       "      <th>previous</th>\n",
       "    </tr>\n",
       "  </thead>\n",
       "  <tbody>\n",
       "    <tr>\n",
       "      <th>age</th>\n",
       "      <td>1.000000</td>\n",
       "      <td>0.112300</td>\n",
       "      <td>-0.000762</td>\n",
       "      <td>0.000189</td>\n",
       "      <td>-0.005278</td>\n",
       "      <td>0.002774</td>\n",
       "      <td>0.020169</td>\n",
       "    </tr>\n",
       "    <tr>\n",
       "      <th>balance</th>\n",
       "      <td>0.112300</td>\n",
       "      <td>1.000000</td>\n",
       "      <td>0.010467</td>\n",
       "      <td>0.022436</td>\n",
       "      <td>-0.013894</td>\n",
       "      <td>0.017411</td>\n",
       "      <td>0.030805</td>\n",
       "    </tr>\n",
       "    <tr>\n",
       "      <th>day</th>\n",
       "      <td>-0.000762</td>\n",
       "      <td>0.010467</td>\n",
       "      <td>1.000000</td>\n",
       "      <td>-0.018511</td>\n",
       "      <td>0.137007</td>\n",
       "      <td>-0.077232</td>\n",
       "      <td>-0.058981</td>\n",
       "    </tr>\n",
       "    <tr>\n",
       "      <th>duration</th>\n",
       "      <td>0.000189</td>\n",
       "      <td>0.022436</td>\n",
       "      <td>-0.018511</td>\n",
       "      <td>1.000000</td>\n",
       "      <td>-0.041557</td>\n",
       "      <td>-0.027392</td>\n",
       "      <td>-0.026716</td>\n",
       "    </tr>\n",
       "    <tr>\n",
       "      <th>campaign</th>\n",
       "      <td>-0.005278</td>\n",
       "      <td>-0.013894</td>\n",
       "      <td>0.137007</td>\n",
       "      <td>-0.041557</td>\n",
       "      <td>1.000000</td>\n",
       "      <td>-0.102726</td>\n",
       "      <td>-0.049699</td>\n",
       "    </tr>\n",
       "    <tr>\n",
       "      <th>pdays</th>\n",
       "      <td>0.002774</td>\n",
       "      <td>0.017411</td>\n",
       "      <td>-0.077232</td>\n",
       "      <td>-0.027392</td>\n",
       "      <td>-0.102726</td>\n",
       "      <td>1.000000</td>\n",
       "      <td>0.507272</td>\n",
       "    </tr>\n",
       "    <tr>\n",
       "      <th>previous</th>\n",
       "      <td>0.020169</td>\n",
       "      <td>0.030805</td>\n",
       "      <td>-0.058981</td>\n",
       "      <td>-0.026716</td>\n",
       "      <td>-0.049699</td>\n",
       "      <td>0.507272</td>\n",
       "      <td>1.000000</td>\n",
       "    </tr>\n",
       "  </tbody>\n",
       "</table>\n",
       "</div>"
      ],
      "text/plain": [
       "               age   balance       day  duration  campaign     pdays  previous\n",
       "age       1.000000  0.112300 -0.000762  0.000189 -0.005278  0.002774  0.020169\n",
       "balance   0.112300  1.000000  0.010467  0.022436 -0.013894  0.017411  0.030805\n",
       "day      -0.000762  0.010467  1.000000 -0.018511  0.137007 -0.077232 -0.058981\n",
       "duration  0.000189  0.022436 -0.018511  1.000000 -0.041557 -0.027392 -0.026716\n",
       "campaign -0.005278 -0.013894  0.137007 -0.041557  1.000000 -0.102726 -0.049699\n",
       "pdays     0.002774  0.017411 -0.077232 -0.027392 -0.102726  1.000000  0.507272\n",
       "previous  0.020169  0.030805 -0.058981 -0.026716 -0.049699  0.507272  1.000000"
      ]
     },
     "execution_count": 5,
     "metadata": {},
     "output_type": "execute_result"
    }
   ],
   "source": [
    "df.corr()"
   ]
  },
  {
   "cell_type": "code",
   "execution_count": 6,
   "id": "bb42f6f9",
   "metadata": {},
   "outputs": [
    {
     "name": "stdout",
     "output_type": "stream",
     "text": [
      "<class 'pandas.core.frame.DataFrame'>\n",
      "RangeIndex: 11162 entries, 0 to 11161\n",
      "Data columns (total 17 columns):\n",
      " #   Column     Non-Null Count  Dtype \n",
      "---  ------     --------------  ----- \n",
      " 0   age        11162 non-null  int64 \n",
      " 1   job        11162 non-null  object\n",
      " 2   marital    11162 non-null  object\n",
      " 3   education  11162 non-null  object\n",
      " 4   default    11162 non-null  object\n",
      " 5   balance    11162 non-null  int64 \n",
      " 6   housing    11162 non-null  object\n",
      " 7   loan       11162 non-null  object\n",
      " 8   contact    11162 non-null  object\n",
      " 9   day        11162 non-null  int64 \n",
      " 10  month      11162 non-null  object\n",
      " 11  duration   11162 non-null  int64 \n",
      " 12  campaign   11162 non-null  int64 \n",
      " 13  pdays      11162 non-null  int64 \n",
      " 14  previous   11162 non-null  int64 \n",
      " 15  poutcome   11162 non-null  object\n",
      " 16  deposit    11162 non-null  object\n",
      "dtypes: int64(7), object(10)\n",
      "memory usage: 1.4+ MB\n"
     ]
    }
   ],
   "source": [
    "# check the data structure\n",
    "df.info()"
   ]
  },
  {
   "cell_type": "code",
   "execution_count": 7,
   "id": "640732e9",
   "metadata": {},
   "outputs": [
    {
     "data": {
      "text/plain": [
       "(11162, 17)"
      ]
     },
     "execution_count": 7,
     "metadata": {},
     "output_type": "execute_result"
    }
   ],
   "source": [
    "# Find Number of rows and column\n",
    "df.shape"
   ]
  },
  {
   "cell_type": "code",
   "execution_count": 8,
   "id": "3885f0e5",
   "metadata": {},
   "outputs": [
    {
     "data": {
      "text/plain": [
       "Index(['age', 'job', 'marital', 'education', 'default', 'balance', 'housing',\n",
       "       'loan', 'contact', 'day', 'month', 'duration', 'campaign', 'pdays',\n",
       "       'previous', 'poutcome', 'deposit'],\n",
       "      dtype='object')"
      ]
     },
     "execution_count": 8,
     "metadata": {},
     "output_type": "execute_result"
    }
   ],
   "source": [
    "df.columns"
   ]
  },
  {
   "cell_type": "code",
   "execution_count": 9,
   "id": "895b7ffe",
   "metadata": {},
   "outputs": [
    {
     "data": {
      "text/html": [
       "<div>\n",
       "<style scoped>\n",
       "    .dataframe tbody tr th:only-of-type {\n",
       "        vertical-align: middle;\n",
       "    }\n",
       "\n",
       "    .dataframe tbody tr th {\n",
       "        vertical-align: top;\n",
       "    }\n",
       "\n",
       "    .dataframe thead th {\n",
       "        text-align: right;\n",
       "    }\n",
       "</style>\n",
       "<table border=\"1\" class=\"dataframe\">\n",
       "  <thead>\n",
       "    <tr style=\"text-align: right;\">\n",
       "      <th></th>\n",
       "      <th>age</th>\n",
       "      <th>balance</th>\n",
       "      <th>day</th>\n",
       "      <th>duration</th>\n",
       "      <th>campaign</th>\n",
       "      <th>pdays</th>\n",
       "      <th>previous</th>\n",
       "    </tr>\n",
       "  </thead>\n",
       "  <tbody>\n",
       "    <tr>\n",
       "      <th>count</th>\n",
       "      <td>11162.000000</td>\n",
       "      <td>11162.000000</td>\n",
       "      <td>11162.000000</td>\n",
       "      <td>11162.000000</td>\n",
       "      <td>11162.000000</td>\n",
       "      <td>11162.000000</td>\n",
       "      <td>11162.000000</td>\n",
       "    </tr>\n",
       "    <tr>\n",
       "      <th>mean</th>\n",
       "      <td>41.231948</td>\n",
       "      <td>1528.538524</td>\n",
       "      <td>15.658036</td>\n",
       "      <td>371.993818</td>\n",
       "      <td>2.508421</td>\n",
       "      <td>51.330407</td>\n",
       "      <td>0.832557</td>\n",
       "    </tr>\n",
       "    <tr>\n",
       "      <th>std</th>\n",
       "      <td>11.913369</td>\n",
       "      <td>3225.413326</td>\n",
       "      <td>8.420740</td>\n",
       "      <td>347.128386</td>\n",
       "      <td>2.722077</td>\n",
       "      <td>108.758282</td>\n",
       "      <td>2.292007</td>\n",
       "    </tr>\n",
       "    <tr>\n",
       "      <th>min</th>\n",
       "      <td>18.000000</td>\n",
       "      <td>-6847.000000</td>\n",
       "      <td>1.000000</td>\n",
       "      <td>2.000000</td>\n",
       "      <td>1.000000</td>\n",
       "      <td>-1.000000</td>\n",
       "      <td>0.000000</td>\n",
       "    </tr>\n",
       "    <tr>\n",
       "      <th>25%</th>\n",
       "      <td>32.000000</td>\n",
       "      <td>122.000000</td>\n",
       "      <td>8.000000</td>\n",
       "      <td>138.000000</td>\n",
       "      <td>1.000000</td>\n",
       "      <td>-1.000000</td>\n",
       "      <td>0.000000</td>\n",
       "    </tr>\n",
       "    <tr>\n",
       "      <th>50%</th>\n",
       "      <td>39.000000</td>\n",
       "      <td>550.000000</td>\n",
       "      <td>15.000000</td>\n",
       "      <td>255.000000</td>\n",
       "      <td>2.000000</td>\n",
       "      <td>-1.000000</td>\n",
       "      <td>0.000000</td>\n",
       "    </tr>\n",
       "    <tr>\n",
       "      <th>75%</th>\n",
       "      <td>49.000000</td>\n",
       "      <td>1708.000000</td>\n",
       "      <td>22.000000</td>\n",
       "      <td>496.000000</td>\n",
       "      <td>3.000000</td>\n",
       "      <td>20.750000</td>\n",
       "      <td>1.000000</td>\n",
       "    </tr>\n",
       "    <tr>\n",
       "      <th>max</th>\n",
       "      <td>95.000000</td>\n",
       "      <td>81204.000000</td>\n",
       "      <td>31.000000</td>\n",
       "      <td>3881.000000</td>\n",
       "      <td>63.000000</td>\n",
       "      <td>854.000000</td>\n",
       "      <td>58.000000</td>\n",
       "    </tr>\n",
       "  </tbody>\n",
       "</table>\n",
       "</div>"
      ],
      "text/plain": [
       "                age       balance           day      duration      campaign  \\\n",
       "count  11162.000000  11162.000000  11162.000000  11162.000000  11162.000000   \n",
       "mean      41.231948   1528.538524     15.658036    371.993818      2.508421   \n",
       "std       11.913369   3225.413326      8.420740    347.128386      2.722077   \n",
       "min       18.000000  -6847.000000      1.000000      2.000000      1.000000   \n",
       "25%       32.000000    122.000000      8.000000    138.000000      1.000000   \n",
       "50%       39.000000    550.000000     15.000000    255.000000      2.000000   \n",
       "75%       49.000000   1708.000000     22.000000    496.000000      3.000000   \n",
       "max       95.000000  81204.000000     31.000000   3881.000000     63.000000   \n",
       "\n",
       "              pdays      previous  \n",
       "count  11162.000000  11162.000000  \n",
       "mean      51.330407      0.832557  \n",
       "std      108.758282      2.292007  \n",
       "min       -1.000000      0.000000  \n",
       "25%       -1.000000      0.000000  \n",
       "50%       -1.000000      0.000000  \n",
       "75%       20.750000      1.000000  \n",
       "max      854.000000     58.000000  "
      ]
     },
     "execution_count": 9,
     "metadata": {},
     "output_type": "execute_result"
    }
   ],
   "source": [
    "# Describes the  numerical columns\n",
    "df.describe()"
   ]
  },
  {
   "cell_type": "code",
   "execution_count": 10,
   "id": "c3871ebe",
   "metadata": {},
   "outputs": [
    {
     "data": {
      "text/plain": [
       "deposit\n",
       "no     5873\n",
       "yes    5289\n",
       "Name: deposit, dtype: int64"
      ]
     },
     "execution_count": 10,
     "metadata": {},
     "output_type": "execute_result"
    }
   ],
   "source": [
    "df.groupby('deposit')['deposit'].agg('count')"
   ]
  },
  {
   "cell_type": "markdown",
   "id": "cae01f7d",
   "metadata": {},
   "source": [
    "#### Data Description\n",
    "\n",
    "- This is the classic marketing bank dataset uploaded originally in the UCI Machine Learning Repository. The dataset gives you information about a marketing campaign of a financial institution in which you will have to analyze in order to find ways to look for future strategies in order to improve future marketing campaigns for the bank."
   ]
  },
  {
   "cell_type": "markdown",
   "id": "8641510a",
   "metadata": {},
   "source": [
    "#### Feature\n",
    "\n",
    " "
   ]
  },
  {
   "cell_type": "markdown",
   "id": "40c89f6c",
   "metadata": {},
   "source": [
    "- age | int64 | age in years\n",
    "- job | object | type of job (categorical: ['admin.' 'technician' 'services' 'management' 'retired' 'blue-collar' 'unemployed' 'entrepreneur' 'housemaid' 'unknown' 'self-employed' 'student'])\n",
    "- marital | object | marital status (categorical: ['married' 'single' 'divorced'])\n",
    "- education | Object | education background (categorical: ['secondary' 'tertiary' 'primary' 'unknown'])\n",
    "- default | Object | has credit in default? (categorical: ['no' 'yes'])\n",
    "- balance | int64 | Balance of the individual\n",
    "- housing | object | has housing loan? (categorical: ['yes' 'no'])\n",
    "- loan | object | has personal loan? (categorical: ['no' 'yes'])\n",
    "- contact | object | contact communication type (categorical: ['unknown' 'cellular' 'telephone'])\n",
    "- day | int64 | last contact day of the week (categorical: 'mon','tue','wed','thu','fri')\n",
    "- month | object | last contact month of year (categorical: ['may' 'jun' 'jul' 'aug' 'oct' 'nov' 'dec' 'jan' 'feb' 'mar' 'apr' 'sep'])\n",
    "- duration | int64 | last contact duration, in seconds (numeric)\n",
    "- campaign | int64 | number of contacts performed during this campaign and for this client\n",
    "- pdays | int64 | number of days that passed by after the client was last contacted from a previous campaign (numeric; 999 means client was not previously contacted)\n",
    "- previous | int64 | number of contacts performed before this campaign and for this client\n",
    "- poutcome | object | outcome of the previous marketing campaign (categorical: ['unknown' 'other' 'failure' 'success'])"
   ]
  },
  {
   "cell_type": "markdown",
   "id": "b2fc54aa",
   "metadata": {},
   "source": [
    "#### Label\n",
    "\n",
    "- deposit | object | has the client subscribed a term deposit? (binary: 'yes','no')"
   ]
  },
  {
   "cell_type": "markdown",
   "id": "a1c53ceb",
   "metadata": {},
   "source": [
    "# Exploratory Data Analysis"
   ]
  },
  {
   "cell_type": "markdown",
   "id": "dea2565b",
   "metadata": {},
   "source": [
    "### 1. Find Unwanted Columns"
   ]
  },
  {
   "cell_type": "code",
   "execution_count": 11,
   "id": "2c391579",
   "metadata": {},
   "outputs": [
    {
     "name": "stdout",
     "output_type": "stream",
     "text": [
      "job\n",
      "['admin.' 'technician' 'services' 'management' 'retired' 'blue-collar'\n",
      " 'unemployed' 'entrepreneur' 'housemaid' 'unknown' 'self-employed'\n",
      " 'student']\n",
      "marital\n",
      "['married' 'single' 'divorced']\n",
      "education\n",
      "['secondary' 'tertiary' 'primary' 'unknown']\n",
      "default\n",
      "['no' 'yes']\n",
      "housing\n",
      "['yes' 'no']\n",
      "loan\n",
      "['no' 'yes']\n",
      "contact\n",
      "['unknown' 'cellular' 'telephone']\n",
      "month\n",
      "['may' 'jun' 'jul' 'aug' 'oct' 'nov' 'dec' 'jan' 'feb' 'mar' 'apr' 'sep']\n",
      "poutcome\n",
      "['unknown' 'other' 'failure' 'success']\n",
      "deposit\n",
      "['yes' 'no']\n"
     ]
    }
   ],
   "source": [
    "for col in df.select_dtypes(include='object').columns:\n",
    "    print(col)\n",
    "    print(df[col].unique())"
   ]
  },
  {
   "cell_type": "markdown",
   "id": "895803ed",
   "metadata": {},
   "source": [
    "There is no unwanted Data columns"
   ]
  },
  {
   "cell_type": "markdown",
   "id": "3e9733b5",
   "metadata": {},
   "source": [
    "### 2. Find Missing Values"
   ]
  },
  {
   "cell_type": "code",
   "execution_count": 12,
   "id": "00b3b7ba",
   "metadata": {},
   "outputs": [
    {
     "data": {
      "text/plain": [
       "age          0\n",
       "job          0\n",
       "marital      0\n",
       "education    0\n",
       "default      0\n",
       "balance      0\n",
       "housing      0\n",
       "loan         0\n",
       "contact      0\n",
       "day          0\n",
       "month        0\n",
       "duration     0\n",
       "campaign     0\n",
       "pdays        0\n",
       "previous     0\n",
       "poutcome     0\n",
       "deposit      0\n",
       "dtype: int64"
      ]
     },
     "execution_count": 12,
     "metadata": {},
     "output_type": "execute_result"
    }
   ],
   "source": [
    "df.isnull().sum()"
   ]
  },
  {
   "cell_type": "markdown",
   "id": "350784a3",
   "metadata": {},
   "source": [
    "There is no Missing Values found"
   ]
  },
  {
   "cell_type": "markdown",
   "id": "c4fb227a",
   "metadata": {},
   "source": [
    "#### 3. Find Features with One Value"
   ]
  },
  {
   "cell_type": "code",
   "execution_count": 13,
   "id": "1f2efab9",
   "metadata": {},
   "outputs": [
    {
     "data": {
      "text/plain": [
       "age            76\n",
       "job            12\n",
       "marital         3\n",
       "education       4\n",
       "default         2\n",
       "balance      3805\n",
       "housing         2\n",
       "loan            2\n",
       "contact         3\n",
       "day            31\n",
       "month          12\n",
       "duration     1428\n",
       "campaign       36\n",
       "pdays         472\n",
       "previous       34\n",
       "poutcome        4\n",
       "deposit         2\n",
       "dtype: int64"
      ]
     },
     "execution_count": 13,
     "metadata": {},
     "output_type": "execute_result"
    }
   ],
   "source": [
    "df.nunique()"
   ]
  },
  {
   "cell_type": "markdown",
   "id": "1349b488",
   "metadata": {},
   "source": [
    "###### No feature with only one value"
   ]
  },
  {
   "cell_type": "markdown",
   "id": "9d28dec4",
   "metadata": {},
   "source": [
    "#### 4. Explore the Categorical Features"
   ]
  },
  {
   "cell_type": "code",
   "execution_count": 14,
   "id": "a00e9585",
   "metadata": {},
   "outputs": [
    {
     "data": {
      "text/plain": [
       "['job',\n",
       " 'marital',\n",
       " 'education',\n",
       " 'default',\n",
       " 'housing',\n",
       " 'loan',\n",
       " 'contact',\n",
       " 'month',\n",
       " 'poutcome']"
      ]
     },
     "execution_count": 14,
     "metadata": {},
     "output_type": "execute_result"
    }
   ],
   "source": [
    "categorical_features=[feature for feature in df.columns if ((df[feature].dtypes=='O') & (feature not in ['deposit']))]\n",
    "categorical_features"
   ]
  },
  {
   "cell_type": "markdown",
   "id": "b94a4a3d",
   "metadata": {},
   "source": [
    "There are 9 categorical features.\n",
    "Feature job and month has highest number of categorical values"
   ]
  },
  {
   "cell_type": "markdown",
   "id": "a12f2b36",
   "metadata": {},
   "source": [
    "#### 5. Find Categorical Feature Distribution"
   ]
  },
  {
   "cell_type": "code",
   "execution_count": 15,
   "id": "3605575a",
   "metadata": {},
   "outputs": [
    {
     "data": {
      "image/png": "[encoded data removed]",
      "text/plain": [
       "<Figure size 720x5760 with 9 Axes>"
      ]
     },
     "metadata": {},
     "output_type": "display_data"
    }
   ],
   "source": [
    "#check count based on categorical features\n",
    "plt.figure(figsize=(10,80), facecolor='white')\n",
    "plotnumber =1\n",
    "for categorical_feature in categorical_features:\n",
    "    ax = plt.subplot(12,3,plotnumber)\n",
    "    sns.countplot(y=categorical_feature,data=df)\n",
    "    plt.xlabel(categorical_feature)\n",
    "    plt.title(categorical_feature)\n",
    "    plotnumber+=1\n",
    "plt.show()"
   ]
  },
  {
   "cell_type": "markdown",
   "id": "229007ad",
   "metadata": {},
   "source": [
    "# \n",
    "- Client with job type as management records are high in given dataset and housemaid are very less.\n",
    "- Client who married are high in records in given dataset and divorced are less\n",
    "- Client whoes education background is secondary are in high numbers in given dataset\n",
    "- Defualt feature seems to be does not play importand role as it has value of no at high ratio to value yes which can drop\n",
    "- Data in month of may is high and less in dec"
   ]
  },
  {
   "cell_type": "markdown",
   "id": "69463e26",
   "metadata": {},
   "source": [
    "#### 6. Relationship between Categorical Features and Label"
   ]
  },
  {
   "cell_type": "code",
   "execution_count": 16,
   "id": "d69f3a5f",
   "metadata": {},
   "outputs": [
    {
     "data": {
      "image/png": "[encoded data removed]",
      "text/plain": [
       "<Figure size 4320x360 with 12 Axes>"
      ]
     },
     "metadata": {
      "needs_background": "light"
     },
     "output_type": "display_data"
    },
    {
     "data": {
      "image/png": "[encoded data removed]",
      "text/plain": [
       "<Figure size 1080x360 with 3 Axes>"
      ]
     },
     "metadata": {
      "needs_background": "light"
     },
     "output_type": "display_data"
    },
    {
     "data": {
      "image/png": "[encoded data removed]",
      "text/plain": [
       "<Figure size 1440x360 with 4 Axes>"
      ]
     },
     "metadata": {
      "needs_background": "light"
     },
     "output_type": "display_data"
    },
    {
     "data": {
      "image/png": "[encoded data removed]",
      "text/plain": [
       "<Figure size 720x360 with 2 Axes>"
      ]
     },
     "metadata": {
      "needs_background": "light"
     },
     "output_type": "display_data"
    },
    {
     "data": {
      "image/png": "[encoded data removed]",
      "text/plain": [
       "<Figure size 720x360 with 2 Axes>"
      ]
     },
     "metadata": {
      "needs_background": "light"
     },
     "output_type": "display_data"
    },
    {
     "data": {
      "image/png": "[encoded data removed]",
      "text/plain": [
       "<Figure size 720x360 with 2 Axes>"
      ]
     },
     "metadata": {
      "needs_background": "light"
     },
     "output_type": "display_data"
    },
    {
     "data": {
      "image/png": "[encoded data removed]",
      "text/plain": [
       "<Figure size 1080x360 with 3 Axes>"
      ]
     },
     "metadata": {
      "needs_background": "light"
     },
     "output_type": "display_data"
    },
    {
     "data": {
      "image/png": "[encoded data removed]",
      "text/plain": [
       "<Figure size 4320x360 with 12 Axes>"
      ]
     },
     "metadata": {
      "needs_background": "light"
     },
     "output_type": "display_data"
    },
    {
     "data": {
      "image/png": "[encoded data removed]",
      "text/plain": [
       "<Figure size 1440x360 with 4 Axes>"
      ]
     },
     "metadata": {
      "needs_background": "light"
     },
     "output_type": "display_data"
    }
   ],
   "source": [
    "#check target label split over categorical features\n",
    "#Find out the relationship between categorical variable and dependent variable\n",
    "for categorical_feature in categorical_features:\n",
    "    sns.catplot(x='deposit', col=categorical_feature, kind='count', data= df)\n",
    "plt.show()"
   ]
  },
  {
   "cell_type": "code",
   "execution_count": 18,
   "id": "f16e3795",
   "metadata": {},
   "outputs": [
    {
     "name": "stdout",
     "output_type": "stream",
     "text": [
      "deposit  job          \n",
      "no       admin.            703\n",
      "         blue-collar      1236\n",
      "         entrepreneur      205\n",
      "         housemaid         165\n",
      "         management       1265\n",
      "         retired           262\n",
      "         self-employed     218\n",
      "         services          554\n",
      "         student            91\n",
      "         technician        983\n",
      "         unemployed        155\n",
      "         unknown            36\n",
      "yes      admin.            631\n",
      "         blue-collar       708\n",
      "         entrepreneur      123\n",
      "         housemaid         109\n",
      "         management       1301\n",
      "         retired           516\n",
      "         self-employed     187\n",
      "         services          369\n",
      "         student           269\n",
      "         technician        840\n",
      "         unemployed        202\n",
      "         unknown            34\n",
      "dtype: int64\n",
      "deposit  marital \n",
      "no       divorced     671\n",
      "         married     3596\n",
      "         single      1606\n",
      "yes      divorced     622\n",
      "         married     2755\n",
      "         single      1912\n",
      "dtype: int64\n",
      "deposit  education\n",
      "no       primary       909\n",
      "         secondary    3026\n",
      "         tertiary     1693\n",
      "         unknown       245\n",
      "yes      primary       591\n",
      "         secondary    2450\n",
      "         tertiary     1996\n",
      "         unknown       252\n",
      "dtype: int64\n",
      "deposit  default\n",
      "no       no         5757\n",
      "         yes         116\n",
      "yes      no         5237\n",
      "         yes          52\n",
      "dtype: int64\n",
      "deposit  housing\n",
      "no       no         2527\n",
      "         yes        3346\n",
      "yes      no         3354\n",
      "         yes        1935\n",
      "dtype: int64\n",
      "deposit  loan\n",
      "no       no      4897\n",
      "         yes      976\n",
      "yes      no      4805\n",
      "         yes      484\n",
      "dtype: int64\n",
      "deposit  contact  \n",
      "no       cellular     3673\n",
      "         telephone     384\n",
      "         unknown      1816\n",
      "yes      cellular     4369\n",
      "         telephone     390\n",
      "         unknown       530\n",
      "dtype: int64\n",
      "deposit  month\n",
      "no       apr       346\n",
      "         aug       831\n",
      "         dec        10\n",
      "         feb       335\n",
      "         jan       202\n",
      "         jul       887\n",
      "         jun       676\n",
      "         mar        28\n",
      "         may      1899\n",
      "         nov       540\n",
      "         oct        69\n",
      "         sep        50\n",
      "yes      apr       577\n",
      "         aug       688\n",
      "         dec       100\n",
      "         feb       441\n",
      "         jan       142\n",
      "         jul       627\n",
      "         jun       546\n",
      "         mar       248\n",
      "         may       925\n",
      "         nov       403\n",
      "         oct       323\n",
      "         sep       269\n",
      "dtype: int64\n",
      "deposit  poutcome\n",
      "no       failure      610\n",
      "         other        230\n",
      "         success       93\n",
      "         unknown     4940\n",
      "yes      failure      618\n",
      "         other        307\n",
      "         success      978\n",
      "         unknown     3386\n",
      "dtype: int64\n"
     ]
    }
   ],
   "source": [
    "#Check target label split over categorical features and find the count\n",
    "for categorical_feature in categorical_features:\n",
    "    print(df.groupby(['deposit',categorical_feature]).size())"
   ]
  },
  {
   "cell_type": "markdown",
   "id": "cc05accd",
   "metadata": {},
   "source": [
    "- retired client has high interest on deposit\n",
    "- client who has housing loan seems to be not interested much on deposit\n",
    "- if pre campagin outcome that is poutcome=success then, there is high chance of client to show interest on deposit\n",
    "- in month of March, September, October and December, client show high interest to deposit\n",
    "- in month of may, records are high but client interst ratio is very less"
   ]
  },
  {
   "cell_type": "markdown",
   "id": "2b5d12bd",
   "metadata": {},
   "source": [
    "#### 7. Explore the Numerical Features"
   ]
  },
  {
   "cell_type": "code",
   "execution_count": 19,
   "id": "3b716bb6",
   "metadata": {
    "scrolled": true
   },
   "outputs": [
    {
     "name": "stdout",
     "output_type": "stream",
     "text": [
      "Number of numerical variables:  7\n"
     ]
    },
    {
     "data": {
      "text/html": [
       "<div>\n",
       "<style scoped>\n",
       "    .dataframe tbody tr th:only-of-type {\n",
       "        vertical-align: middle;\n",
       "    }\n",
       "\n",
       "    .dataframe tbody tr th {\n",
       "        vertical-align: top;\n",
       "    }\n",
       "\n",
       "    .dataframe thead th {\n",
       "        text-align: right;\n",
       "    }\n",
       "</style>\n",
       "<table border=\"1\" class=\"dataframe\">\n",
       "  <thead>\n",
       "    <tr style=\"text-align: right;\">\n",
       "      <th></th>\n",
       "      <th>age</th>\n",
       "      <th>balance</th>\n",
       "      <th>day</th>\n",
       "      <th>duration</th>\n",
       "      <th>campaign</th>\n",
       "      <th>pdays</th>\n",
       "      <th>previous</th>\n",
       "    </tr>\n",
       "  </thead>\n",
       "  <tbody>\n",
       "    <tr>\n",
       "      <th>0</th>\n",
       "      <td>59</td>\n",
       "      <td>2343</td>\n",
       "      <td>5</td>\n",
       "      <td>1042</td>\n",
       "      <td>1</td>\n",
       "      <td>-1</td>\n",
       "      <td>0</td>\n",
       "    </tr>\n",
       "    <tr>\n",
       "      <th>1</th>\n",
       "      <td>56</td>\n",
       "      <td>45</td>\n",
       "      <td>5</td>\n",
       "      <td>1467</td>\n",
       "      <td>1</td>\n",
       "      <td>-1</td>\n",
       "      <td>0</td>\n",
       "    </tr>\n",
       "    <tr>\n",
       "      <th>2</th>\n",
       "      <td>41</td>\n",
       "      <td>1270</td>\n",
       "      <td>5</td>\n",
       "      <td>1389</td>\n",
       "      <td>1</td>\n",
       "      <td>-1</td>\n",
       "      <td>0</td>\n",
       "    </tr>\n",
       "    <tr>\n",
       "      <th>3</th>\n",
       "      <td>55</td>\n",
       "      <td>2476</td>\n",
       "      <td>5</td>\n",
       "      <td>579</td>\n",
       "      <td>1</td>\n",
       "      <td>-1</td>\n",
       "      <td>0</td>\n",
       "    </tr>\n",
       "    <tr>\n",
       "      <th>4</th>\n",
       "      <td>54</td>\n",
       "      <td>184</td>\n",
       "      <td>5</td>\n",
       "      <td>673</td>\n",
       "      <td>2</td>\n",
       "      <td>-1</td>\n",
       "      <td>0</td>\n",
       "    </tr>\n",
       "  </tbody>\n",
       "</table>\n",
       "</div>"
      ],
      "text/plain": [
       "   age  balance  day  duration  campaign  pdays  previous\n",
       "0   59     2343    5      1042         1     -1         0\n",
       "1   56       45    5      1467         1     -1         0\n",
       "2   41     1270    5      1389         1     -1         0\n",
       "3   55     2476    5       579         1     -1         0\n",
       "4   54      184    5       673         2     -1         0"
      ]
     },
     "execution_count": 19,
     "metadata": {},
     "output_type": "execute_result"
    }
   ],
   "source": [
    "# list of numerical variables\n",
    "numerical_features = [feature for feature in df.columns if ((df[feature].dtypes != 'O') & (feature not in ['deposit']))]\n",
    "print('Number of numerical variables: ', len(numerical_features))\n",
    "\n",
    "# visualise the numerical variables\n",
    "df[numerical_features].head()"
   ]
  },
  {
   "cell_type": "markdown",
   "id": "33915790",
   "metadata": {},
   "source": [
    "- There are 7 numerical features"
   ]
  },
  {
   "cell_type": "markdown",
   "id": "7e1bf111",
   "metadata": {},
   "source": [
    "#### 8. Find Discrete Numerical Features"
   ]
  },
  {
   "cell_type": "code",
   "execution_count": 20,
   "id": "ed423eb5",
   "metadata": {},
   "outputs": [
    {
     "name": "stdout",
     "output_type": "stream",
     "text": [
      "Discrete Variables Count: 0\n"
     ]
    }
   ],
   "source": [
    "discrete_feature=[feature for feature in numerical_features if len(df[feature].unique())<25]\n",
    "print(\"Discrete Variables Count: {}\".format(len(discrete_feature)))"
   ]
  },
  {
   "cell_type": "markdown",
   "id": "c008a59b",
   "metadata": {},
   "source": [
    "#### 9. Find Continous Numerical Features"
   ]
  },
  {
   "cell_type": "code",
   "execution_count": 21,
   "id": "642a3132",
   "metadata": {},
   "outputs": [
    {
     "name": "stdout",
     "output_type": "stream",
     "text": [
      "Continuous feature Count 7\n"
     ]
    }
   ],
   "source": [
    "continuous_features=[feature for feature in numerical_features if feature not in discrete_feature+['deposit']]\n",
    "print(\"Continuous feature Count {}\".format(len(continuous_features)))"
   ]
  },
  {
   "cell_type": "markdown",
   "id": "7df3d8d0",
   "metadata": {},
   "source": [
    "#### 10. Distribution of Continous Numerical Features"
   ]
  },
  {
   "cell_type": "code",
   "execution_count": 22,
   "id": "3b05b5cd",
   "metadata": {},
   "outputs": [
    {
     "data": {
      "image/png": "[encoded data removed]",
      "text/plain": [
       "<Figure size 1440x4320 with 7 Axes>"
      ]
     },
     "metadata": {},
     "output_type": "display_data"
    }
   ],
   "source": [
    "#plot a univariate distribution of continous observations\n",
    "plt.figure(figsize=(20,60), facecolor='white')\n",
    "plotnumber =1\n",
    "for continuous_feature in continuous_features:\n",
    "    ax = plt.subplot(12,3,plotnumber)\n",
    "    sns.distplot(df[continuous_feature])\n",
    "    plt.xlabel(continuous_feature)\n",
    "    plotnumber+=1\n",
    "plt.show()"
   ]
  },
  {
   "cell_type": "markdown",
   "id": "ec882fef",
   "metadata": {},
   "source": [
    "It seems age, days distributed normally.\n",
    "Balance, duration, compaign, pdays and previous heavily skewed towards left and seems to be have some outliers"
   ]
  },
  {
   "cell_type": "markdown",
   "id": "d9ca0737",
   "metadata": {},
   "source": [
    "#### 11. Relation between Continous numerical Features and Labels"
   ]
  },
  {
   "cell_type": "code",
   "execution_count": 23,
   "id": "e51c7eb2",
   "metadata": {},
   "outputs": [
    {
     "data": {
      "image/png": "[encoded data removed]",
      "text/plain": [
       "<Figure size 720x4320 with 7 Axes>"
      ]
     },
     "metadata": {},
     "output_type": "display_data"
    }
   ],
   "source": [
    "#boxplot to show target distribution with respect numerical features\n",
    "plt.figure(figsize=(10,60), facecolor='white')\n",
    "plotnumber =1\n",
    "for feature in continuous_features:\n",
    "    ax = plt.subplot(12,3,plotnumber)\n",
    "    sns.boxplot(x=\"deposit\", y= df[feature], data=df)\n",
    "    plt.xlabel(feature)\n",
    "    plotnumber+=1\n",
    "plt.show()"
   ]
  },
  {
   "cell_type": "markdown",
   "id": "9d2e2aa4",
   "metadata": {},
   "source": [
    "\n",
    "\n",
    "client shows interest on deposit who had discussion for longer duration\n"
   ]
  },
  {
   "cell_type": "markdown",
   "id": "fe6d3845",
   "metadata": {},
   "source": [
    "#### 12. Find Outliers in numerical features"
   ]
  },
  {
   "cell_type": "code",
   "execution_count": 24,
   "id": "87863929",
   "metadata": {},
   "outputs": [
    {
     "data": {
      "image/png": "[encoded data removed]",
      "text/plain": [
       "<Figure size 1440x3600 with 7 Axes>"
      ]
     },
     "metadata": {},
     "output_type": "display_data"
    }
   ],
   "source": [
    "#boxplot on numerical features to find outliers\n",
    "plt.figure(figsize=(20,50), facecolor='white')\n",
    "plotnumber =1\n",
    "for numerical_feature in numerical_features:\n",
    "    ax = plt.subplot(12,3,plotnumber)\n",
    "    sns.boxplot(df[numerical_feature])\n",
    "    plt.xlabel(numerical_feature)\n",
    "    plotnumber+=1\n",
    "plt.show()"
   ]
  },
  {
   "cell_type": "markdown",
   "id": "a7545f14",
   "metadata": {},
   "source": [
    "###### age, balance, duration, compaign, pdays and previous have some outliers."
   ]
  },
  {
   "cell_type": "markdown",
   "id": "68a14731",
   "metadata": {},
   "source": [
    "#### 13.Check the Data set is balanced or not based on target values in classification"
   ]
  },
  {
   "cell_type": "code",
   "execution_count": 25,
   "id": "ddd5bb52",
   "metadata": {
    "scrolled": true
   },
   "outputs": [
    {
     "data": {
      "image/png": "[encoded data removed]",
      "text/plain": [
       "<Figure size 432x288 with 1 Axes>"
      ]
     },
     "metadata": {
      "needs_background": "light"
     },
     "output_type": "display_data"
    }
   ],
   "source": [
    "\n",
    "sns.countplot(x='deposit',data=df)\n",
    "plt.show()"
   ]
  },
  {
   "cell_type": "code",
   "execution_count": 26,
   "id": "9ad1ec01",
   "metadata": {},
   "outputs": [
    {
     "data": {
      "text/plain": [
       "deposit\n",
       "no     5873\n",
       "yes    5289\n",
       "Name: deposit, dtype: int64"
      ]
     },
     "execution_count": 26,
     "metadata": {},
     "output_type": "execute_result"
    }
   ],
   "source": [
    "df['deposit'].groupby(df['deposit']).count()"
   ]
  },
  {
   "cell_type": "markdown",
   "id": "593dd2d4",
   "metadata": {},
   "source": [
    "###### Given dataset seems to be balanced"
   ]
  },
  {
   "cell_type": "markdown",
   "id": "60f5145e",
   "metadata": {},
   "source": [
    "### 14. Explore the Correlation between numerical features"
   ]
  },
  {
   "cell_type": "code",
   "execution_count": 27,
   "id": "43040ac4",
   "metadata": {},
   "outputs": [
    {
     "data": {
      "text/plain": [
       "<Figure size 864x576 with 0 Axes>"
      ]
     },
     "metadata": {},
     "output_type": "display_data"
    }
   ],
   "source": [
    "from sklearn.preprocessing import StandardScaler, OneHotEncoder, LabelEncoder\n",
    "fig = plt.figure(figsize=(12,8))\n",
    "df['deposit'] = LabelEncoder().fit_transform(df['deposit'])"
   ]
  },
  {
   "cell_type": "code",
   "execution_count": 28,
   "id": "a86fb9f8",
   "metadata": {},
   "outputs": [
    {
     "data": {
      "image/png": "[encoded data removed]",
      "text/plain": [
       "<Figure size 720x720 with 2 Axes>"
      ]
     },
     "metadata": {
      "needs_background": "light"
     },
     "output_type": "display_data"
    }
   ],
   "source": [
    "numeric_df = df.select_dtypes(exclude=\"object\")\n",
    "corr_numeric = numeric_df.corr()\n",
    "fig = plt.figure(figsize=(10,10))\n",
    "sns.heatmap(corr_numeric, cbar=True,annot=True)\n",
    "\n",
    "plt.title(\"Correlation Matrix\", fontsize=16)\n",
    "plt.show()"
   ]
  },
  {
   "cell_type": "code",
   "execution_count": 29,
   "id": "4dfb5151",
   "metadata": {},
   "outputs": [
    {
     "data": {
      "image/png": "[encoded data removed]",
      "text/plain": [
       "<Figure size 842.4x595.44 with 1 Axes>"
      ]
     },
     "metadata": {},
     "output_type": "display_data"
    }
   ],
   "source": [
    "sns.set(rc={'figure.figsize':(11.7,8.27)})\n",
    "sns.set_style('whitegrid')\n",
    "avg_duration = df['duration'].mean()\n",
    "\n",
    "\n",
    "lst = [df]\n",
    "df[\"duration_status\"] = np.nan\n",
    "\n",
    "for col in lst:\n",
    "    col.loc[col[\"duration\"] < avg_duration, \"duration_status\"] = \"below_average\"\n",
    "    col.loc[col[\"duration\"] > avg_duration, \"duration_status\"] = \"above_average\"\n",
    "    \n",
    "pct_term = pd.crosstab(df['duration_status'], df['deposit']).apply(lambda r: round(r/r.sum(), 2) * 100, axis=1)\n",
    "\n",
    "\n",
    "ax = pct_term.plot(kind='bar', stacked=False)\n",
    "plt.title(\"The Impact of Duration \\n in Opening a Term Deposit\", fontsize=18)\n",
    "plt.xlabel(\"Duration Status\", fontsize=18);\n",
    "plt.ylabel(\"Percentage (%)\", fontsize=18)\n",
    "\n",
    "for p in ax.patches:\n",
    "    ax.annotate(str(p.get_height()), (p.get_x() * 1.02, p.get_height() * 1.02))\n",
    "    \n",
    "\n",
    "plt.show()"
   ]
  },
  {
   "cell_type": "markdown",
   "id": "da1ab744",
   "metadata": {},
   "source": [
    "#### Campaign Duration: we see that duration has a high correlation with term deposits meaning the higher the duration, the more likely it is for a client to open a term deposit.\n",
    "Average Campaign Duration: The average campaign duration is 371.99, let's see if clients that were above this average were more likely to open a term deposit.\n",
    "Duration Status: People who were above the duration status, were more likely to open a term deposit. 77% of the group that is above average in duration opened term deposits while those that were below average 32% opened term deposit accounts. This tells us that it will be a good idea to target individuals who are in the above average category."
   ]
  },
  {
   "cell_type": "markdown",
   "id": "8662b8e2",
   "metadata": {},
   "source": [
    "###### As per Exploratory Data Analysis ,\n",
    "\n",
    "No missing value found.\n",
    "No feature found with one value.\n",
    "9 categorical features.\n",
    "Defaut features does not play imp role.\n",
    "It seems some outliers found (age, balance, duration, compaign, pdays and previous has some outliers)"
   ]
  },
  {
   "cell_type": "markdown",
   "id": "e8b87e16",
   "metadata": {},
   "source": [
    "### Data Preprocessing"
   ]
  },
  {
   "cell_type": "code",
   "execution_count": 30,
   "id": "02e61d54",
   "metadata": {},
   "outputs": [],
   "source": [
    "df1= df.copy()"
   ]
  },
  {
   "cell_type": "code",
   "execution_count": 31,
   "id": "8949f245",
   "metadata": {},
   "outputs": [
    {
     "data": {
      "text/html": [
       "<div>\n",
       "<style scoped>\n",
       "    .dataframe tbody tr th:only-of-type {\n",
       "        vertical-align: middle;\n",
       "    }\n",
       "\n",
       "    .dataframe tbody tr th {\n",
       "        vertical-align: top;\n",
       "    }\n",
       "\n",
       "    .dataframe thead th {\n",
       "        text-align: right;\n",
       "    }\n",
       "</style>\n",
       "<table border=\"1\" class=\"dataframe\">\n",
       "  <thead>\n",
       "    <tr style=\"text-align: right;\">\n",
       "      <th></th>\n",
       "      <th>age</th>\n",
       "      <th>job</th>\n",
       "      <th>marital</th>\n",
       "      <th>education</th>\n",
       "      <th>default</th>\n",
       "      <th>balance</th>\n",
       "      <th>housing</th>\n",
       "      <th>loan</th>\n",
       "      <th>contact</th>\n",
       "      <th>day</th>\n",
       "      <th>month</th>\n",
       "      <th>duration</th>\n",
       "      <th>campaign</th>\n",
       "      <th>pdays</th>\n",
       "      <th>previous</th>\n",
       "      <th>poutcome</th>\n",
       "      <th>deposit</th>\n",
       "      <th>duration_status</th>\n",
       "    </tr>\n",
       "  </thead>\n",
       "  <tbody>\n",
       "    <tr>\n",
       "      <th>0</th>\n",
       "      <td>59</td>\n",
       "      <td>admin.</td>\n",
       "      <td>married</td>\n",
       "      <td>secondary</td>\n",
       "      <td>no</td>\n",
       "      <td>2343</td>\n",
       "      <td>yes</td>\n",
       "      <td>no</td>\n",
       "      <td>unknown</td>\n",
       "      <td>5</td>\n",
       "      <td>may</td>\n",
       "      <td>1042</td>\n",
       "      <td>1</td>\n",
       "      <td>-1</td>\n",
       "      <td>0</td>\n",
       "      <td>unknown</td>\n",
       "      <td>1</td>\n",
       "      <td>above_average</td>\n",
       "    </tr>\n",
       "    <tr>\n",
       "      <th>1</th>\n",
       "      <td>56</td>\n",
       "      <td>admin.</td>\n",
       "      <td>married</td>\n",
       "      <td>secondary</td>\n",
       "      <td>no</td>\n",
       "      <td>45</td>\n",
       "      <td>no</td>\n",
       "      <td>no</td>\n",
       "      <td>unknown</td>\n",
       "      <td>5</td>\n",
       "      <td>may</td>\n",
       "      <td>1467</td>\n",
       "      <td>1</td>\n",
       "      <td>-1</td>\n",
       "      <td>0</td>\n",
       "      <td>unknown</td>\n",
       "      <td>1</td>\n",
       "      <td>above_average</td>\n",
       "    </tr>\n",
       "    <tr>\n",
       "      <th>2</th>\n",
       "      <td>41</td>\n",
       "      <td>technician</td>\n",
       "      <td>married</td>\n",
       "      <td>secondary</td>\n",
       "      <td>no</td>\n",
       "      <td>1270</td>\n",
       "      <td>yes</td>\n",
       "      <td>no</td>\n",
       "      <td>unknown</td>\n",
       "      <td>5</td>\n",
       "      <td>may</td>\n",
       "      <td>1389</td>\n",
       "      <td>1</td>\n",
       "      <td>-1</td>\n",
       "      <td>0</td>\n",
       "      <td>unknown</td>\n",
       "      <td>1</td>\n",
       "      <td>above_average</td>\n",
       "    </tr>\n",
       "    <tr>\n",
       "      <th>3</th>\n",
       "      <td>55</td>\n",
       "      <td>services</td>\n",
       "      <td>married</td>\n",
       "      <td>secondary</td>\n",
       "      <td>no</td>\n",
       "      <td>2476</td>\n",
       "      <td>yes</td>\n",
       "      <td>no</td>\n",
       "      <td>unknown</td>\n",
       "      <td>5</td>\n",
       "      <td>may</td>\n",
       "      <td>579</td>\n",
       "      <td>1</td>\n",
       "      <td>-1</td>\n",
       "      <td>0</td>\n",
       "      <td>unknown</td>\n",
       "      <td>1</td>\n",
       "      <td>above_average</td>\n",
       "    </tr>\n",
       "    <tr>\n",
       "      <th>4</th>\n",
       "      <td>54</td>\n",
       "      <td>admin.</td>\n",
       "      <td>married</td>\n",
       "      <td>tertiary</td>\n",
       "      <td>no</td>\n",
       "      <td>184</td>\n",
       "      <td>no</td>\n",
       "      <td>no</td>\n",
       "      <td>unknown</td>\n",
       "      <td>5</td>\n",
       "      <td>may</td>\n",
       "      <td>673</td>\n",
       "      <td>2</td>\n",
       "      <td>-1</td>\n",
       "      <td>0</td>\n",
       "      <td>unknown</td>\n",
       "      <td>1</td>\n",
       "      <td>above_average</td>\n",
       "    </tr>\n",
       "  </tbody>\n",
       "</table>\n",
       "</div>"
      ],
      "text/plain": [
       "   age         job  marital  education default  balance housing loan  contact  \\\n",
       "0   59      admin.  married  secondary      no     2343     yes   no  unknown   \n",
       "1   56      admin.  married  secondary      no       45      no   no  unknown   \n",
       "2   41  technician  married  secondary      no     1270     yes   no  unknown   \n",
       "3   55    services  married  secondary      no     2476     yes   no  unknown   \n",
       "4   54      admin.  married   tertiary      no      184      no   no  unknown   \n",
       "\n",
       "   day month  duration  campaign  pdays  previous poutcome  deposit  \\\n",
       "0    5   may      1042         1     -1         0  unknown        1   \n",
       "1    5   may      1467         1     -1         0  unknown        1   \n",
       "2    5   may      1389         1     -1         0  unknown        1   \n",
       "3    5   may       579         1     -1         0  unknown        1   \n",
       "4    5   may       673         2     -1         0  unknown        1   \n",
       "\n",
       "  duration_status  \n",
       "0   above_average  \n",
       "1   above_average  \n",
       "2   above_average  \n",
       "3   above_average  \n",
       "4   above_average  "
      ]
     },
     "execution_count": 31,
     "metadata": {},
     "output_type": "execute_result"
    }
   ],
   "source": [
    "df1.head()"
   ]
  },
  {
   "cell_type": "code",
   "execution_count": 32,
   "id": "c21f5264",
   "metadata": {},
   "outputs": [
    {
     "data": {
      "text/plain": [
       "(11162, 18)"
      ]
     },
     "execution_count": 32,
     "metadata": {},
     "output_type": "execute_result"
    }
   ],
   "source": [
    "df1.shape"
   ]
  },
  {
   "cell_type": "code",
   "execution_count": 33,
   "id": "80f8f4b9",
   "metadata": {},
   "outputs": [
    {
     "data": {
      "text/plain": [
       "0        1042\n",
       "1        1467\n",
       "2        1389\n",
       "3         579\n",
       "4         673\n",
       "         ... \n",
       "11157     257\n",
       "11158      83\n",
       "11159     156\n",
       "11160       9\n",
       "11161     628\n",
       "Name: duration, Length: 11162, dtype: int64"
      ]
     },
     "execution_count": 33,
     "metadata": {},
     "output_type": "execute_result"
    }
   ],
   "source": [
    "df1['duration']"
   ]
  },
  {
   "cell_type": "code",
   "execution_count": 34,
   "id": "89afa583",
   "metadata": {},
   "outputs": [
    {
     "data": {
      "text/plain": [
       "deposit  default\n",
       "0        no         5757\n",
       "         yes         116\n",
       "1        no         5237\n",
       "         yes          52\n",
       "dtype: int64"
      ]
     },
     "execution_count": 34,
     "metadata": {},
     "output_type": "execute_result"
    }
   ],
   "source": [
    "#default features does not play imp role\n",
    "df1.groupby(['deposit','default']).size()"
   ]
  },
  {
   "cell_type": "code",
   "execution_count": 35,
   "id": "29e273ac",
   "metadata": {},
   "outputs": [],
   "source": [
    "df1.drop(['default'],axis=1, inplace=True)"
   ]
  },
  {
   "cell_type": "code",
   "execution_count": 36,
   "id": "518941e2",
   "metadata": {},
   "outputs": [
    {
     "data": {
      "text/plain": [
       "deposit  pdays\n",
       "0        -1       4940\n",
       "          1          2\n",
       "          2          6\n",
       "          5          2\n",
       "          6          2\n",
       "                  ... \n",
       "1         804        1\n",
       "          805        1\n",
       "          828        1\n",
       "          842        1\n",
       "          854        1\n",
       "Length: 732, dtype: int64"
      ]
     },
     "execution_count": 36,
     "metadata": {},
     "output_type": "execute_result"
    }
   ],
   "source": [
    "df1.groupby(['deposit','pdays']).size()"
   ]
  },
  {
   "cell_type": "code",
   "execution_count": 37,
   "id": "b8e22bed",
   "metadata": {},
   "outputs": [],
   "source": [
    "#we can see negative values,so we can drop pdays as well"
   ]
  },
  {
   "cell_type": "code",
   "execution_count": 38,
   "id": "e6b4f85e",
   "metadata": {},
   "outputs": [],
   "source": [
    "df1.drop(['pdays'],axis=1, inplace=True)"
   ]
  },
  {
   "cell_type": "code",
   "execution_count": 39,
   "id": "b43efd48",
   "metadata": {},
   "outputs": [
    {
     "data": {
      "text/plain": [
       "age\n",
       "18     8\n",
       "19    13\n",
       "20    20\n",
       "21    30\n",
       "22    48\n",
       "      ..\n",
       "89     1\n",
       "90     2\n",
       "92     2\n",
       "93     2\n",
       "95     1\n",
       "Name: age, Length: 76, dtype: int64"
      ]
     },
     "execution_count": 39,
     "metadata": {},
     "output_type": "execute_result"
    }
   ],
   "source": [
    "# remove outliers in feature age...\n",
    "df1.groupby('age',sort=True)['age'].count()\n",
    "# these can be ignored and values lies in between 18 to 95"
   ]
  },
  {
   "cell_type": "code",
   "execution_count": 40,
   "id": "e66ea7d8",
   "metadata": {},
   "outputs": [
    {
     "data": {
      "text/plain": [
       "deposit  balance\n",
       "0        -6847      1\n",
       "         -2712      1\n",
       "         -2282      1\n",
       "         -2049      1\n",
       "         -1965      1\n",
       "                   ..\n",
       "1         34646     1\n",
       "          36252     1\n",
       "          45248     1\n",
       "          52587     2\n",
       "          81204     2\n",
       "Name: balance, Length: 5082, dtype: int64"
      ]
     },
     "execution_count": 40,
     "metadata": {},
     "output_type": "execute_result"
    }
   ],
   "source": [
    "# remove outliers in feature balance...\n",
    "df1.groupby(['deposit','balance'],sort=True)['balance'].count()\n",
    "# these outlier should not be remove as balance goes high, client show interest"
   ]
  },
  {
   "cell_type": "code",
   "execution_count": 41,
   "id": "ddd556a8",
   "metadata": {},
   "outputs": [
    {
     "data": {
      "text/plain": [
       "deposit  duration\n",
       "0        2           1\n",
       "         3           1\n",
       "         4           2\n",
       "         5           4\n",
       "         6           6\n",
       "                    ..\n",
       "1        3094        1\n",
       "         3102        1\n",
       "         3183        1\n",
       "         3253        1\n",
       "         3881        1\n",
       "Name: duration, Length: 2157, dtype: int64"
      ]
     },
     "execution_count": 41,
     "metadata": {},
     "output_type": "execute_result"
    }
   ],
   "source": [
    "# remove outliers in feature duration...\n",
    "df1.groupby(['deposit','duration'],sort=True)['duration'].count()\n",
    "# these outlier should not be remove as duration goes high, client show interes"
   ]
  },
  {
   "cell_type": "code",
   "execution_count": 42,
   "id": "9d554a7d",
   "metadata": {},
   "outputs": [
    {
     "data": {
      "text/plain": [
       "deposit  campaign\n",
       "0        1           2237\n",
       "         2           1627\n",
       "         3            703\n",
       "         4            454\n",
       "         5            239\n",
       "         6            173\n",
       "         7             92\n",
       "         8             96\n",
       "         9             51\n",
       "         10            38\n",
       "         11            24\n",
       "         12            25\n",
       "         13            24\n",
       "         14            11\n",
       "         15             9\n",
       "         16             7\n",
       "         17             8\n",
       "         18             8\n",
       "         19             5\n",
       "         20             4\n",
       "         21             7\n",
       "         22             4\n",
       "         23             3\n",
       "         24             4\n",
       "         25             3\n",
       "         26             3\n",
       "         27             1\n",
       "         28             1\n",
       "         29             1\n",
       "         30             4\n",
       "         31             1\n",
       "         32             1\n",
       "         33             1\n",
       "         41             1\n",
       "         43             2\n",
       "         63             1\n",
       "1        1           2561\n",
       "         2           1401\n",
       "         3            618\n",
       "         4            317\n",
       "         5            139\n",
       "         6             92\n",
       "         7             47\n",
       "         8             32\n",
       "         9             21\n",
       "         10            14\n",
       "         11            16\n",
       "         12             4\n",
       "         13             6\n",
       "         14             4\n",
       "         15             4\n",
       "         16             2\n",
       "         17             6\n",
       "         20             1\n",
       "         21             1\n",
       "         24             1\n",
       "         29             1\n",
       "         32             1\n",
       "Name: campaign, dtype: int64"
      ]
     },
     "execution_count": 42,
     "metadata": {},
     "output_type": "execute_result"
    }
   ],
   "source": [
    "# remove outliers in feature campaign...\n",
    "df1.groupby(['deposit','campaign'],sort=True)['campaign'].count()"
   ]
  },
  {
   "cell_type": "code",
   "execution_count": 43,
   "id": "91d68090",
   "metadata": {},
   "outputs": [],
   "source": [
    "df2 = df1[df1['campaign'] < 33]\n"
   ]
  },
  {
   "cell_type": "code",
   "execution_count": 44,
   "id": "de8528c6",
   "metadata": {},
   "outputs": [
    {
     "data": {
      "text/plain": [
       "deposit  campaign\n",
       "0        1           2237\n",
       "         2           1627\n",
       "         3            703\n",
       "         4            454\n",
       "         5            239\n",
       "         6            173\n",
       "         7             92\n",
       "         8             96\n",
       "         9             51\n",
       "         10            38\n",
       "         11            24\n",
       "         12            25\n",
       "         13            24\n",
       "         14            11\n",
       "         15             9\n",
       "         16             7\n",
       "         17             8\n",
       "         18             8\n",
       "         19             5\n",
       "         20             4\n",
       "         21             7\n",
       "         22             4\n",
       "         23             3\n",
       "         24             4\n",
       "         25             3\n",
       "         26             3\n",
       "         27             1\n",
       "         28             1\n",
       "         29             1\n",
       "         30             4\n",
       "         31             1\n",
       "         32             1\n",
       "1        1           2561\n",
       "         2           1401\n",
       "         3            618\n",
       "         4            317\n",
       "         5            139\n",
       "         6             92\n",
       "         7             47\n",
       "         8             32\n",
       "         9             21\n",
       "         10            14\n",
       "         11            16\n",
       "         12             4\n",
       "         13             6\n",
       "         14             4\n",
       "         15             4\n",
       "         16             2\n",
       "         17             6\n",
       "         20             1\n",
       "         21             1\n",
       "         24             1\n",
       "         29             1\n",
       "         32             1\n",
       "Name: campaign, dtype: int64"
      ]
     },
     "execution_count": 44,
     "metadata": {},
     "output_type": "execute_result"
    }
   ],
   "source": [
    "df2.groupby(['deposit','campaign'],sort=True)['campaign'].count()"
   ]
  },
  {
   "cell_type": "code",
   "execution_count": 45,
   "id": "aa4a5c63",
   "metadata": {},
   "outputs": [
    {
     "data": {
      "text/plain": [
       "deposit  previous\n",
       "0        0           4935\n",
       "         1            304\n",
       "         2            237\n",
       "         3            141\n",
       "         4             73\n",
       "         5             44\n",
       "         6             34\n",
       "         7             23\n",
       "         8             21\n",
       "         9             10\n",
       "         10             4\n",
       "         11             8\n",
       "         12             6\n",
       "         13             2\n",
       "         14             1\n",
       "         15             4\n",
       "         16             2\n",
       "         17             8\n",
       "         18             1\n",
       "         19             2\n",
       "         20             1\n",
       "         23             1\n",
       "         27             2\n",
       "         28             1\n",
       "         37             1\n",
       "         40             1\n",
       "         41             1\n",
       "1        0           3384\n",
       "         1            583\n",
       "         2            456\n",
       "         3            294\n",
       "         4            171\n",
       "         5            121\n",
       "         6             83\n",
       "         7             54\n",
       "         8             39\n",
       "         9             24\n",
       "         10            26\n",
       "         11            15\n",
       "         12            10\n",
       "         13             9\n",
       "         14             5\n",
       "         15             1\n",
       "         17             3\n",
       "         19             2\n",
       "         20             1\n",
       "         21             1\n",
       "         22             1\n",
       "         23             1\n",
       "         26             1\n",
       "         29             1\n",
       "         30             1\n",
       "         55             1\n",
       "         58             1\n",
       "Name: previous, dtype: int64"
      ]
     },
     "execution_count": 45,
     "metadata": {},
     "output_type": "execute_result"
    }
   ],
   "source": [
    "# remove outliers in feature previous...\n",
    "df2.groupby(['deposit','previous'],sort=True)['previous'].count()"
   ]
  },
  {
   "cell_type": "code",
   "execution_count": 46,
   "id": "5fbaf83a",
   "metadata": {},
   "outputs": [],
   "source": [
    "df3 = df2[df2['previous'] < 31]\n"
   ]
  },
  {
   "cell_type": "code",
   "execution_count": 47,
   "id": "9b95ab67",
   "metadata": {},
   "outputs": [],
   "source": [
    "df4 = df3.assign(duration=df['duration'])"
   ]
  },
  {
   "cell_type": "code",
   "execution_count": 48,
   "id": "2cb1642b",
   "metadata": {},
   "outputs": [],
   "source": [
    "df4.drop(['duration_status'],axis=1, inplace=True)"
   ]
  },
  {
   "cell_type": "code",
   "execution_count": 49,
   "id": "4c7d86dd",
   "metadata": {},
   "outputs": [
    {
     "data": {
      "text/html": [
       "<div>\n",
       "<style scoped>\n",
       "    .dataframe tbody tr th:only-of-type {\n",
       "        vertical-align: middle;\n",
       "    }\n",
       "\n",
       "    .dataframe tbody tr th {\n",
       "        vertical-align: top;\n",
       "    }\n",
       "\n",
       "    .dataframe thead th {\n",
       "        text-align: right;\n",
       "    }\n",
       "</style>\n",
       "<table border=\"1\" class=\"dataframe\">\n",
       "  <thead>\n",
       "    <tr style=\"text-align: right;\">\n",
       "      <th></th>\n",
       "      <th>age</th>\n",
       "      <th>job</th>\n",
       "      <th>marital</th>\n",
       "      <th>education</th>\n",
       "      <th>balance</th>\n",
       "      <th>housing</th>\n",
       "      <th>loan</th>\n",
       "      <th>contact</th>\n",
       "      <th>day</th>\n",
       "      <th>month</th>\n",
       "      <th>duration</th>\n",
       "      <th>campaign</th>\n",
       "      <th>previous</th>\n",
       "      <th>poutcome</th>\n",
       "      <th>deposit</th>\n",
       "    </tr>\n",
       "  </thead>\n",
       "  <tbody>\n",
       "    <tr>\n",
       "      <th>0</th>\n",
       "      <td>59</td>\n",
       "      <td>admin.</td>\n",
       "      <td>married</td>\n",
       "      <td>secondary</td>\n",
       "      <td>2343</td>\n",
       "      <td>yes</td>\n",
       "      <td>no</td>\n",
       "      <td>unknown</td>\n",
       "      <td>5</td>\n",
       "      <td>may</td>\n",
       "      <td>1042</td>\n",
       "      <td>1</td>\n",
       "      <td>0</td>\n",
       "      <td>unknown</td>\n",
       "      <td>1</td>\n",
       "    </tr>\n",
       "    <tr>\n",
       "      <th>1</th>\n",
       "      <td>56</td>\n",
       "      <td>admin.</td>\n",
       "      <td>married</td>\n",
       "      <td>secondary</td>\n",
       "      <td>45</td>\n",
       "      <td>no</td>\n",
       "      <td>no</td>\n",
       "      <td>unknown</td>\n",
       "      <td>5</td>\n",
       "      <td>may</td>\n",
       "      <td>1467</td>\n",
       "      <td>1</td>\n",
       "      <td>0</td>\n",
       "      <td>unknown</td>\n",
       "      <td>1</td>\n",
       "    </tr>\n",
       "    <tr>\n",
       "      <th>2</th>\n",
       "      <td>41</td>\n",
       "      <td>technician</td>\n",
       "      <td>married</td>\n",
       "      <td>secondary</td>\n",
       "      <td>1270</td>\n",
       "      <td>yes</td>\n",
       "      <td>no</td>\n",
       "      <td>unknown</td>\n",
       "      <td>5</td>\n",
       "      <td>may</td>\n",
       "      <td>1389</td>\n",
       "      <td>1</td>\n",
       "      <td>0</td>\n",
       "      <td>unknown</td>\n",
       "      <td>1</td>\n",
       "    </tr>\n",
       "    <tr>\n",
       "      <th>3</th>\n",
       "      <td>55</td>\n",
       "      <td>services</td>\n",
       "      <td>married</td>\n",
       "      <td>secondary</td>\n",
       "      <td>2476</td>\n",
       "      <td>yes</td>\n",
       "      <td>no</td>\n",
       "      <td>unknown</td>\n",
       "      <td>5</td>\n",
       "      <td>may</td>\n",
       "      <td>579</td>\n",
       "      <td>1</td>\n",
       "      <td>0</td>\n",
       "      <td>unknown</td>\n",
       "      <td>1</td>\n",
       "    </tr>\n",
       "    <tr>\n",
       "      <th>4</th>\n",
       "      <td>54</td>\n",
       "      <td>admin.</td>\n",
       "      <td>married</td>\n",
       "      <td>tertiary</td>\n",
       "      <td>184</td>\n",
       "      <td>no</td>\n",
       "      <td>no</td>\n",
       "      <td>unknown</td>\n",
       "      <td>5</td>\n",
       "      <td>may</td>\n",
       "      <td>673</td>\n",
       "      <td>2</td>\n",
       "      <td>0</td>\n",
       "      <td>unknown</td>\n",
       "      <td>1</td>\n",
       "    </tr>\n",
       "  </tbody>\n",
       "</table>\n",
       "</div>"
      ],
      "text/plain": [
       "   age         job  marital  education  balance housing loan  contact  day  \\\n",
       "0   59      admin.  married  secondary     2343     yes   no  unknown    5   \n",
       "1   56      admin.  married  secondary       45      no   no  unknown    5   \n",
       "2   41  technician  married  secondary     1270     yes   no  unknown    5   \n",
       "3   55    services  married  secondary     2476     yes   no  unknown    5   \n",
       "4   54      admin.  married   tertiary      184      no   no  unknown    5   \n",
       "\n",
       "  month  duration  campaign  previous poutcome  deposit  \n",
       "0   may      1042         1         0  unknown        1  \n",
       "1   may      1467         1         0  unknown        1  \n",
       "2   may      1389         1         0  unknown        1  \n",
       "3   may       579         1         0  unknown        1  \n",
       "4   may       673         2         0  unknown        1  "
      ]
     },
     "execution_count": 49,
     "metadata": {},
     "output_type": "execute_result"
    }
   ],
   "source": [
    "df4.head()"
   ]
  },
  {
   "cell_type": "code",
   "execution_count": 50,
   "id": "c47c421c",
   "metadata": {},
   "outputs": [
    {
     "data": {
      "text/plain": [
       "0    5865\n",
       "1    5287\n",
       "Name: deposit, dtype: int64"
      ]
     },
     "execution_count": 50,
     "metadata": {},
     "output_type": "execute_result"
    }
   ],
   "source": [
    "df4['deposit'].value_counts()"
   ]
  },
  {
   "cell_type": "markdown",
   "id": "343e59c4",
   "metadata": {},
   "source": [
    "#### Feature  Encoding"
   ]
  },
  {
   "cell_type": "code",
   "execution_count": 51,
   "id": "e613cb46",
   "metadata": {},
   "outputs": [],
   "source": [
    "cat_columns = ['job', 'marital', 'education', 'contact', 'month', 'poutcome']\n",
    "for col in  cat_columns:\n",
    "    df4 = pd.concat([df4.drop(col, axis=1),pd.get_dummies(df4[col], prefix=col, prefix_sep='_',drop_first=True, dummy_na=False)], axis=1)"
   ]
  },
  {
   "cell_type": "code",
   "execution_count": 52,
   "id": "8f656208",
   "metadata": {},
   "outputs": [],
   "source": [
    "bool_columns = ['housing', 'loan']\n",
    "for col in  bool_columns:\n",
    "    df4[col+'_new']=df4[col].apply(lambda x : 1 if x == 'yes' else 0)\n",
    "\n",
    "    df4.drop(col, axis=1, inplace=True)"
   ]
  },
  {
   "cell_type": "code",
   "execution_count": 53,
   "id": "ab9fc681",
   "metadata": {},
   "outputs": [
    {
     "data": {
      "text/html": [
       "<div>\n",
       "<style scoped>\n",
       "    .dataframe tbody tr th:only-of-type {\n",
       "        vertical-align: middle;\n",
       "    }\n",
       "\n",
       "    .dataframe tbody tr th {\n",
       "        vertical-align: top;\n",
       "    }\n",
       "\n",
       "    .dataframe thead th {\n",
       "        text-align: right;\n",
       "    }\n",
       "</style>\n",
       "<table border=\"1\" class=\"dataframe\">\n",
       "  <thead>\n",
       "    <tr style=\"text-align: right;\">\n",
       "      <th></th>\n",
       "      <th>age</th>\n",
       "      <th>balance</th>\n",
       "      <th>day</th>\n",
       "      <th>duration</th>\n",
       "      <th>campaign</th>\n",
       "      <th>previous</th>\n",
       "      <th>deposit</th>\n",
       "      <th>job_blue-collar</th>\n",
       "      <th>job_entrepreneur</th>\n",
       "      <th>job_housemaid</th>\n",
       "      <th>...</th>\n",
       "      <th>month_mar</th>\n",
       "      <th>month_may</th>\n",
       "      <th>month_nov</th>\n",
       "      <th>month_oct</th>\n",
       "      <th>month_sep</th>\n",
       "      <th>poutcome_other</th>\n",
       "      <th>poutcome_success</th>\n",
       "      <th>poutcome_unknown</th>\n",
       "      <th>housing_new</th>\n",
       "      <th>loan_new</th>\n",
       "    </tr>\n",
       "  </thead>\n",
       "  <tbody>\n",
       "    <tr>\n",
       "      <th>0</th>\n",
       "      <td>59</td>\n",
       "      <td>2343</td>\n",
       "      <td>5</td>\n",
       "      <td>1042</td>\n",
       "      <td>1</td>\n",
       "      <td>0</td>\n",
       "      <td>1</td>\n",
       "      <td>0</td>\n",
       "      <td>0</td>\n",
       "      <td>0</td>\n",
       "      <td>...</td>\n",
       "      <td>0</td>\n",
       "      <td>1</td>\n",
       "      <td>0</td>\n",
       "      <td>0</td>\n",
       "      <td>0</td>\n",
       "      <td>0</td>\n",
       "      <td>0</td>\n",
       "      <td>1</td>\n",
       "      <td>1</td>\n",
       "      <td>0</td>\n",
       "    </tr>\n",
       "    <tr>\n",
       "      <th>1</th>\n",
       "      <td>56</td>\n",
       "      <td>45</td>\n",
       "      <td>5</td>\n",
       "      <td>1467</td>\n",
       "      <td>1</td>\n",
       "      <td>0</td>\n",
       "      <td>1</td>\n",
       "      <td>0</td>\n",
       "      <td>0</td>\n",
       "      <td>0</td>\n",
       "      <td>...</td>\n",
       "      <td>0</td>\n",
       "      <td>1</td>\n",
       "      <td>0</td>\n",
       "      <td>0</td>\n",
       "      <td>0</td>\n",
       "      <td>0</td>\n",
       "      <td>0</td>\n",
       "      <td>1</td>\n",
       "      <td>0</td>\n",
       "      <td>0</td>\n",
       "    </tr>\n",
       "    <tr>\n",
       "      <th>2</th>\n",
       "      <td>41</td>\n",
       "      <td>1270</td>\n",
       "      <td>5</td>\n",
       "      <td>1389</td>\n",
       "      <td>1</td>\n",
       "      <td>0</td>\n",
       "      <td>1</td>\n",
       "      <td>0</td>\n",
       "      <td>0</td>\n",
       "      <td>0</td>\n",
       "      <td>...</td>\n",
       "      <td>0</td>\n",
       "      <td>1</td>\n",
       "      <td>0</td>\n",
       "      <td>0</td>\n",
       "      <td>0</td>\n",
       "      <td>0</td>\n",
       "      <td>0</td>\n",
       "      <td>1</td>\n",
       "      <td>1</td>\n",
       "      <td>0</td>\n",
       "    </tr>\n",
       "    <tr>\n",
       "      <th>3</th>\n",
       "      <td>55</td>\n",
       "      <td>2476</td>\n",
       "      <td>5</td>\n",
       "      <td>579</td>\n",
       "      <td>1</td>\n",
       "      <td>0</td>\n",
       "      <td>1</td>\n",
       "      <td>0</td>\n",
       "      <td>0</td>\n",
       "      <td>0</td>\n",
       "      <td>...</td>\n",
       "      <td>0</td>\n",
       "      <td>1</td>\n",
       "      <td>0</td>\n",
       "      <td>0</td>\n",
       "      <td>0</td>\n",
       "      <td>0</td>\n",
       "      <td>0</td>\n",
       "      <td>1</td>\n",
       "      <td>1</td>\n",
       "      <td>0</td>\n",
       "    </tr>\n",
       "    <tr>\n",
       "      <th>4</th>\n",
       "      <td>54</td>\n",
       "      <td>184</td>\n",
       "      <td>5</td>\n",
       "      <td>673</td>\n",
       "      <td>2</td>\n",
       "      <td>0</td>\n",
       "      <td>1</td>\n",
       "      <td>0</td>\n",
       "      <td>0</td>\n",
       "      <td>0</td>\n",
       "      <td>...</td>\n",
       "      <td>0</td>\n",
       "      <td>1</td>\n",
       "      <td>0</td>\n",
       "      <td>0</td>\n",
       "      <td>0</td>\n",
       "      <td>0</td>\n",
       "      <td>0</td>\n",
       "      <td>1</td>\n",
       "      <td>0</td>\n",
       "      <td>0</td>\n",
       "    </tr>\n",
       "  </tbody>\n",
       "</table>\n",
       "<p>5 rows × 41 columns</p>\n",
       "</div>"
      ],
      "text/plain": [
       "   age  balance  day  duration  campaign  previous  deposit  job_blue-collar  \\\n",
       "0   59     2343    5      1042         1         0        1                0   \n",
       "1   56       45    5      1467         1         0        1                0   \n",
       "2   41     1270    5      1389         1         0        1                0   \n",
       "3   55     2476    5       579         1         0        1                0   \n",
       "4   54      184    5       673         2         0        1                0   \n",
       "\n",
       "   job_entrepreneur  job_housemaid  ...  month_mar  month_may  month_nov  \\\n",
       "0                 0              0  ...          0          1          0   \n",
       "1                 0              0  ...          0          1          0   \n",
       "2                 0              0  ...          0          1          0   \n",
       "3                 0              0  ...          0          1          0   \n",
       "4                 0              0  ...          0          1          0   \n",
       "\n",
       "   month_oct  month_sep  poutcome_other  poutcome_success  poutcome_unknown  \\\n",
       "0          0          0               0                 0                 1   \n",
       "1          0          0               0                 0                 1   \n",
       "2          0          0               0                 0                 1   \n",
       "3          0          0               0                 0                 1   \n",
       "4          0          0               0                 0                 1   \n",
       "\n",
       "   housing_new  loan_new  \n",
       "0            1         0  \n",
       "1            0         0  \n",
       "2            1         0  \n",
       "3            1         0  \n",
       "4            0         0  \n",
       "\n",
       "[5 rows x 41 columns]"
      ]
     },
     "execution_count": 53,
     "metadata": {},
     "output_type": "execute_result"
    }
   ],
   "source": [
    "df4.head()"
   ]
  },
  {
   "cell_type": "code",
   "execution_count": 54,
   "id": "07e8e060",
   "metadata": {},
   "outputs": [
    {
     "data": {
      "text/plain": [
       "0    5865\n",
       "1    5287\n",
       "Name: deposit, dtype: int64"
      ]
     },
     "execution_count": 54,
     "metadata": {},
     "output_type": "execute_result"
    }
   ],
   "source": [
    "df4['deposit'].value_counts()"
   ]
  },
  {
   "cell_type": "markdown",
   "id": "96ee2b93",
   "metadata": {},
   "source": [
    "### Split dataset into Training set and Test data set"
   ]
  },
  {
   "cell_type": "code",
   "execution_count": 55,
   "id": "a1cfe40b",
   "metadata": {},
   "outputs": [],
   "source": [
    "X = df4.drop(['deposit'],axis=1)\n",
    "y = df4['deposit']\n",
    "from sklearn.model_selection import train_test_split\n",
    "X_train, X_test, y_train, y_test = train_test_split(X,y,test_size=0.2, random_state=0)"
   ]
  },
  {
   "cell_type": "code",
   "execution_count": 56,
   "id": "94ee301c",
   "metadata": {},
   "outputs": [
    {
     "data": {
      "text/plain": [
       "8921"
      ]
     },
     "execution_count": 56,
     "metadata": {},
     "output_type": "execute_result"
    }
   ],
   "source": [
    "len(X_train)"
   ]
  },
  {
   "cell_type": "code",
   "execution_count": 57,
   "id": "a8385d77",
   "metadata": {},
   "outputs": [
    {
     "data": {
      "text/plain": [
       "2231"
      ]
     },
     "execution_count": 57,
     "metadata": {},
     "output_type": "execute_result"
    }
   ],
   "source": [
    "len(X_test)"
   ]
  },
  {
   "cell_type": "code",
   "execution_count": 58,
   "id": "cd856b9d",
   "metadata": {},
   "outputs": [
    {
     "data": {
      "text/html": [
       "<div>\n",
       "<style scoped>\n",
       "    .dataframe tbody tr th:only-of-type {\n",
       "        vertical-align: middle;\n",
       "    }\n",
       "\n",
       "    .dataframe tbody tr th {\n",
       "        vertical-align: top;\n",
       "    }\n",
       "\n",
       "    .dataframe thead th {\n",
       "        text-align: right;\n",
       "    }\n",
       "</style>\n",
       "<table border=\"1\" class=\"dataframe\">\n",
       "  <thead>\n",
       "    <tr style=\"text-align: right;\">\n",
       "      <th></th>\n",
       "      <th>age</th>\n",
       "      <th>balance</th>\n",
       "      <th>day</th>\n",
       "      <th>duration</th>\n",
       "      <th>campaign</th>\n",
       "      <th>previous</th>\n",
       "      <th>job_blue-collar</th>\n",
       "      <th>job_entrepreneur</th>\n",
       "      <th>job_housemaid</th>\n",
       "      <th>job_management</th>\n",
       "      <th>...</th>\n",
       "      <th>month_mar</th>\n",
       "      <th>month_may</th>\n",
       "      <th>month_nov</th>\n",
       "      <th>month_oct</th>\n",
       "      <th>month_sep</th>\n",
       "      <th>poutcome_other</th>\n",
       "      <th>poutcome_success</th>\n",
       "      <th>poutcome_unknown</th>\n",
       "      <th>housing_new</th>\n",
       "      <th>loan_new</th>\n",
       "    </tr>\n",
       "  </thead>\n",
       "  <tbody>\n",
       "    <tr>\n",
       "      <th>8720</th>\n",
       "      <td>46</td>\n",
       "      <td>624</td>\n",
       "      <td>16</td>\n",
       "      <td>201</td>\n",
       "      <td>1</td>\n",
       "      <td>0</td>\n",
       "      <td>1</td>\n",
       "      <td>0</td>\n",
       "      <td>0</td>\n",
       "      <td>0</td>\n",
       "      <td>...</td>\n",
       "      <td>0</td>\n",
       "      <td>0</td>\n",
       "      <td>0</td>\n",
       "      <td>0</td>\n",
       "      <td>0</td>\n",
       "      <td>0</td>\n",
       "      <td>0</td>\n",
       "      <td>1</td>\n",
       "      <td>1</td>\n",
       "      <td>0</td>\n",
       "    </tr>\n",
       "    <tr>\n",
       "      <th>3812</th>\n",
       "      <td>43</td>\n",
       "      <td>2952</td>\n",
       "      <td>3</td>\n",
       "      <td>417</td>\n",
       "      <td>2</td>\n",
       "      <td>1</td>\n",
       "      <td>1</td>\n",
       "      <td>0</td>\n",
       "      <td>0</td>\n",
       "      <td>0</td>\n",
       "      <td>...</td>\n",
       "      <td>0</td>\n",
       "      <td>0</td>\n",
       "      <td>0</td>\n",
       "      <td>0</td>\n",
       "      <td>0</td>\n",
       "      <td>1</td>\n",
       "      <td>0</td>\n",
       "      <td>0</td>\n",
       "      <td>0</td>\n",
       "      <td>0</td>\n",
       "    </tr>\n",
       "    <tr>\n",
       "      <th>3525</th>\n",
       "      <td>34</td>\n",
       "      <td>920</td>\n",
       "      <td>14</td>\n",
       "      <td>526</td>\n",
       "      <td>3</td>\n",
       "      <td>3</td>\n",
       "      <td>0</td>\n",
       "      <td>0</td>\n",
       "      <td>0</td>\n",
       "      <td>0</td>\n",
       "      <td>...</td>\n",
       "      <td>0</td>\n",
       "      <td>1</td>\n",
       "      <td>0</td>\n",
       "      <td>0</td>\n",
       "      <td>0</td>\n",
       "      <td>0</td>\n",
       "      <td>1</td>\n",
       "      <td>0</td>\n",
       "      <td>0</td>\n",
       "      <td>0</td>\n",
       "    </tr>\n",
       "    <tr>\n",
       "      <th>5379</th>\n",
       "      <td>38</td>\n",
       "      <td>178</td>\n",
       "      <td>20</td>\n",
       "      <td>245</td>\n",
       "      <td>1</td>\n",
       "      <td>0</td>\n",
       "      <td>1</td>\n",
       "      <td>0</td>\n",
       "      <td>0</td>\n",
       "      <td>0</td>\n",
       "      <td>...</td>\n",
       "      <td>0</td>\n",
       "      <td>1</td>\n",
       "      <td>0</td>\n",
       "      <td>0</td>\n",
       "      <td>0</td>\n",
       "      <td>0</td>\n",
       "      <td>0</td>\n",
       "      <td>1</td>\n",
       "      <td>1</td>\n",
       "      <td>0</td>\n",
       "    </tr>\n",
       "    <tr>\n",
       "      <th>6574</th>\n",
       "      <td>27</td>\n",
       "      <td>35</td>\n",
       "      <td>4</td>\n",
       "      <td>255</td>\n",
       "      <td>1</td>\n",
       "      <td>0</td>\n",
       "      <td>0</td>\n",
       "      <td>0</td>\n",
       "      <td>0</td>\n",
       "      <td>1</td>\n",
       "      <td>...</td>\n",
       "      <td>0</td>\n",
       "      <td>0</td>\n",
       "      <td>0</td>\n",
       "      <td>0</td>\n",
       "      <td>0</td>\n",
       "      <td>0</td>\n",
       "      <td>0</td>\n",
       "      <td>1</td>\n",
       "      <td>0</td>\n",
       "      <td>0</td>\n",
       "    </tr>\n",
       "    <tr>\n",
       "      <th>...</th>\n",
       "      <td>...</td>\n",
       "      <td>...</td>\n",
       "      <td>...</td>\n",
       "      <td>...</td>\n",
       "      <td>...</td>\n",
       "      <td>...</td>\n",
       "      <td>...</td>\n",
       "      <td>...</td>\n",
       "      <td>...</td>\n",
       "      <td>...</td>\n",
       "      <td>...</td>\n",
       "      <td>...</td>\n",
       "      <td>...</td>\n",
       "      <td>...</td>\n",
       "      <td>...</td>\n",
       "      <td>...</td>\n",
       "      <td>...</td>\n",
       "      <td>...</td>\n",
       "      <td>...</td>\n",
       "      <td>...</td>\n",
       "      <td>...</td>\n",
       "    </tr>\n",
       "    <tr>\n",
       "      <th>4861</th>\n",
       "      <td>19</td>\n",
       "      <td>779</td>\n",
       "      <td>1</td>\n",
       "      <td>184</td>\n",
       "      <td>4</td>\n",
       "      <td>0</td>\n",
       "      <td>0</td>\n",
       "      <td>0</td>\n",
       "      <td>0</td>\n",
       "      <td>0</td>\n",
       "      <td>...</td>\n",
       "      <td>0</td>\n",
       "      <td>0</td>\n",
       "      <td>0</td>\n",
       "      <td>0</td>\n",
       "      <td>0</td>\n",
       "      <td>0</td>\n",
       "      <td>0</td>\n",
       "      <td>1</td>\n",
       "      <td>0</td>\n",
       "      <td>0</td>\n",
       "    </tr>\n",
       "    <tr>\n",
       "      <th>3265</th>\n",
       "      <td>60</td>\n",
       "      <td>106</td>\n",
       "      <td>24</td>\n",
       "      <td>137</td>\n",
       "      <td>1</td>\n",
       "      <td>4</td>\n",
       "      <td>0</td>\n",
       "      <td>0</td>\n",
       "      <td>0</td>\n",
       "      <td>0</td>\n",
       "      <td>...</td>\n",
       "      <td>0</td>\n",
       "      <td>0</td>\n",
       "      <td>0</td>\n",
       "      <td>0</td>\n",
       "      <td>0</td>\n",
       "      <td>0</td>\n",
       "      <td>1</td>\n",
       "      <td>0</td>\n",
       "      <td>0</td>\n",
       "      <td>0</td>\n",
       "    </tr>\n",
       "    <tr>\n",
       "      <th>9854</th>\n",
       "      <td>47</td>\n",
       "      <td>107</td>\n",
       "      <td>15</td>\n",
       "      <td>246</td>\n",
       "      <td>1</td>\n",
       "      <td>0</td>\n",
       "      <td>0</td>\n",
       "      <td>0</td>\n",
       "      <td>0</td>\n",
       "      <td>1</td>\n",
       "      <td>...</td>\n",
       "      <td>0</td>\n",
       "      <td>1</td>\n",
       "      <td>0</td>\n",
       "      <td>0</td>\n",
       "      <td>0</td>\n",
       "      <td>0</td>\n",
       "      <td>0</td>\n",
       "      <td>1</td>\n",
       "      <td>0</td>\n",
       "      <td>0</td>\n",
       "    </tr>\n",
       "    <tr>\n",
       "      <th>10809</th>\n",
       "      <td>53</td>\n",
       "      <td>-165</td>\n",
       "      <td>9</td>\n",
       "      <td>89</td>\n",
       "      <td>1</td>\n",
       "      <td>0</td>\n",
       "      <td>0</td>\n",
       "      <td>0</td>\n",
       "      <td>0</td>\n",
       "      <td>0</td>\n",
       "      <td>...</td>\n",
       "      <td>0</td>\n",
       "      <td>0</td>\n",
       "      <td>0</td>\n",
       "      <td>0</td>\n",
       "      <td>0</td>\n",
       "      <td>0</td>\n",
       "      <td>0</td>\n",
       "      <td>1</td>\n",
       "      <td>1</td>\n",
       "      <td>0</td>\n",
       "    </tr>\n",
       "    <tr>\n",
       "      <th>2733</th>\n",
       "      <td>44</td>\n",
       "      <td>282</td>\n",
       "      <td>6</td>\n",
       "      <td>296</td>\n",
       "      <td>3</td>\n",
       "      <td>0</td>\n",
       "      <td>0</td>\n",
       "      <td>0</td>\n",
       "      <td>0</td>\n",
       "      <td>1</td>\n",
       "      <td>...</td>\n",
       "      <td>0</td>\n",
       "      <td>0</td>\n",
       "      <td>0</td>\n",
       "      <td>1</td>\n",
       "      <td>0</td>\n",
       "      <td>0</td>\n",
       "      <td>0</td>\n",
       "      <td>1</td>\n",
       "      <td>0</td>\n",
       "      <td>0</td>\n",
       "    </tr>\n",
       "  </tbody>\n",
       "</table>\n",
       "<p>8921 rows × 40 columns</p>\n",
       "</div>"
      ],
      "text/plain": [
       "       age  balance  day  duration  campaign  previous  job_blue-collar  \\\n",
       "8720    46      624   16       201         1         0                1   \n",
       "3812    43     2952    3       417         2         1                1   \n",
       "3525    34      920   14       526         3         3                0   \n",
       "5379    38      178   20       245         1         0                1   \n",
       "6574    27       35    4       255         1         0                0   \n",
       "...    ...      ...  ...       ...       ...       ...              ...   \n",
       "4861    19      779    1       184         4         0                0   \n",
       "3265    60      106   24       137         1         4                0   \n",
       "9854    47      107   15       246         1         0                0   \n",
       "10809   53     -165    9        89         1         0                0   \n",
       "2733    44      282    6       296         3         0                0   \n",
       "\n",
       "       job_entrepreneur  job_housemaid  job_management  ...  month_mar  \\\n",
       "8720                  0              0               0  ...          0   \n",
       "3812                  0              0               0  ...          0   \n",
       "3525                  0              0               0  ...          0   \n",
       "5379                  0              0               0  ...          0   \n",
       "6574                  0              0               1  ...          0   \n",
       "...                 ...            ...             ...  ...        ...   \n",
       "4861                  0              0               0  ...          0   \n",
       "3265                  0              0               0  ...          0   \n",
       "9854                  0              0               1  ...          0   \n",
       "10809                 0              0               0  ...          0   \n",
       "2733                  0              0               1  ...          0   \n",
       "\n",
       "       month_may  month_nov  month_oct  month_sep  poutcome_other  \\\n",
       "8720           0          0          0          0               0   \n",
       "3812           0          0          0          0               1   \n",
       "3525           1          0          0          0               0   \n",
       "5379           1          0          0          0               0   \n",
       "6574           0          0          0          0               0   \n",
       "...          ...        ...        ...        ...             ...   \n",
       "4861           0          0          0          0               0   \n",
       "3265           0          0          0          0               0   \n",
       "9854           1          0          0          0               0   \n",
       "10809          0          0          0          0               0   \n",
       "2733           0          0          1          0               0   \n",
       "\n",
       "       poutcome_success  poutcome_unknown  housing_new  loan_new  \n",
       "8720                  0                 1            1         0  \n",
       "3812                  0                 0            0         0  \n",
       "3525                  1                 0            0         0  \n",
       "5379                  0                 1            1         0  \n",
       "6574                  0                 1            0         0  \n",
       "...                 ...               ...          ...       ...  \n",
       "4861                  0                 1            0         0  \n",
       "3265                  1                 0            0         0  \n",
       "9854                  0                 1            0         0  \n",
       "10809                 0                 1            1         0  \n",
       "2733                  0                 1            0         0  \n",
       "\n",
       "[8921 rows x 40 columns]"
      ]
     },
     "execution_count": 58,
     "metadata": {},
     "output_type": "execute_result"
    }
   ],
   "source": [
    "X_train"
   ]
  },
  {
   "cell_type": "code",
   "execution_count": 59,
   "id": "d53ea85d",
   "metadata": {},
   "outputs": [
    {
     "data": {
      "text/html": [
       "<div>\n",
       "<style scoped>\n",
       "    .dataframe tbody tr th:only-of-type {\n",
       "        vertical-align: middle;\n",
       "    }\n",
       "\n",
       "    .dataframe tbody tr th {\n",
       "        vertical-align: top;\n",
       "    }\n",
       "\n",
       "    .dataframe thead th {\n",
       "        text-align: right;\n",
       "    }\n",
       "</style>\n",
       "<table border=\"1\" class=\"dataframe\">\n",
       "  <thead>\n",
       "    <tr style=\"text-align: right;\">\n",
       "      <th></th>\n",
       "      <th>age</th>\n",
       "      <th>balance</th>\n",
       "      <th>day</th>\n",
       "      <th>duration</th>\n",
       "      <th>campaign</th>\n",
       "      <th>previous</th>\n",
       "      <th>job_blue-collar</th>\n",
       "      <th>job_entrepreneur</th>\n",
       "      <th>job_housemaid</th>\n",
       "      <th>job_management</th>\n",
       "      <th>...</th>\n",
       "      <th>month_mar</th>\n",
       "      <th>month_may</th>\n",
       "      <th>month_nov</th>\n",
       "      <th>month_oct</th>\n",
       "      <th>month_sep</th>\n",
       "      <th>poutcome_other</th>\n",
       "      <th>poutcome_success</th>\n",
       "      <th>poutcome_unknown</th>\n",
       "      <th>housing_new</th>\n",
       "      <th>loan_new</th>\n",
       "    </tr>\n",
       "  </thead>\n",
       "  <tbody>\n",
       "    <tr>\n",
       "      <th>7351</th>\n",
       "      <td>56</td>\n",
       "      <td>1561</td>\n",
       "      <td>13</td>\n",
       "      <td>75</td>\n",
       "      <td>1</td>\n",
       "      <td>0</td>\n",
       "      <td>0</td>\n",
       "      <td>0</td>\n",
       "      <td>0</td>\n",
       "      <td>0</td>\n",
       "      <td>...</td>\n",
       "      <td>0</td>\n",
       "      <td>0</td>\n",
       "      <td>0</td>\n",
       "      <td>0</td>\n",
       "      <td>0</td>\n",
       "      <td>0</td>\n",
       "      <td>0</td>\n",
       "      <td>1</td>\n",
       "      <td>0</td>\n",
       "      <td>0</td>\n",
       "    </tr>\n",
       "    <tr>\n",
       "      <th>9132</th>\n",
       "      <td>53</td>\n",
       "      <td>136</td>\n",
       "      <td>15</td>\n",
       "      <td>99</td>\n",
       "      <td>1</td>\n",
       "      <td>0</td>\n",
       "      <td>1</td>\n",
       "      <td>0</td>\n",
       "      <td>0</td>\n",
       "      <td>0</td>\n",
       "      <td>...</td>\n",
       "      <td>0</td>\n",
       "      <td>1</td>\n",
       "      <td>0</td>\n",
       "      <td>0</td>\n",
       "      <td>0</td>\n",
       "      <td>0</td>\n",
       "      <td>0</td>\n",
       "      <td>1</td>\n",
       "      <td>1</td>\n",
       "      <td>0</td>\n",
       "    </tr>\n",
       "    <tr>\n",
       "      <th>9221</th>\n",
       "      <td>30</td>\n",
       "      <td>-218</td>\n",
       "      <td>27</td>\n",
       "      <td>13</td>\n",
       "      <td>15</td>\n",
       "      <td>0</td>\n",
       "      <td>0</td>\n",
       "      <td>0</td>\n",
       "      <td>0</td>\n",
       "      <td>1</td>\n",
       "      <td>...</td>\n",
       "      <td>0</td>\n",
       "      <td>0</td>\n",
       "      <td>0</td>\n",
       "      <td>0</td>\n",
       "      <td>0</td>\n",
       "      <td>0</td>\n",
       "      <td>0</td>\n",
       "      <td>1</td>\n",
       "      <td>1</td>\n",
       "      <td>0</td>\n",
       "    </tr>\n",
       "    <tr>\n",
       "      <th>4548</th>\n",
       "      <td>72</td>\n",
       "      <td>763</td>\n",
       "      <td>24</td>\n",
       "      <td>384</td>\n",
       "      <td>2</td>\n",
       "      <td>0</td>\n",
       "      <td>0</td>\n",
       "      <td>0</td>\n",
       "      <td>0</td>\n",
       "      <td>0</td>\n",
       "      <td>...</td>\n",
       "      <td>0</td>\n",
       "      <td>0</td>\n",
       "      <td>0</td>\n",
       "      <td>0</td>\n",
       "      <td>0</td>\n",
       "      <td>0</td>\n",
       "      <td>0</td>\n",
       "      <td>1</td>\n",
       "      <td>0</td>\n",
       "      <td>0</td>\n",
       "    </tr>\n",
       "    <tr>\n",
       "      <th>10563</th>\n",
       "      <td>38</td>\n",
       "      <td>0</td>\n",
       "      <td>16</td>\n",
       "      <td>284</td>\n",
       "      <td>8</td>\n",
       "      <td>0</td>\n",
       "      <td>0</td>\n",
       "      <td>0</td>\n",
       "      <td>0</td>\n",
       "      <td>0</td>\n",
       "      <td>...</td>\n",
       "      <td>0</td>\n",
       "      <td>0</td>\n",
       "      <td>0</td>\n",
       "      <td>0</td>\n",
       "      <td>0</td>\n",
       "      <td>0</td>\n",
       "      <td>0</td>\n",
       "      <td>1</td>\n",
       "      <td>1</td>\n",
       "      <td>0</td>\n",
       "    </tr>\n",
       "    <tr>\n",
       "      <th>...</th>\n",
       "      <td>...</td>\n",
       "      <td>...</td>\n",
       "      <td>...</td>\n",
       "      <td>...</td>\n",
       "      <td>...</td>\n",
       "      <td>...</td>\n",
       "      <td>...</td>\n",
       "      <td>...</td>\n",
       "      <td>...</td>\n",
       "      <td>...</td>\n",
       "      <td>...</td>\n",
       "      <td>...</td>\n",
       "      <td>...</td>\n",
       "      <td>...</td>\n",
       "      <td>...</td>\n",
       "      <td>...</td>\n",
       "      <td>...</td>\n",
       "      <td>...</td>\n",
       "      <td>...</td>\n",
       "      <td>...</td>\n",
       "      <td>...</td>\n",
       "    </tr>\n",
       "    <tr>\n",
       "      <th>9475</th>\n",
       "      <td>55</td>\n",
       "      <td>274</td>\n",
       "      <td>9</td>\n",
       "      <td>7</td>\n",
       "      <td>5</td>\n",
       "      <td>0</td>\n",
       "      <td>0</td>\n",
       "      <td>0</td>\n",
       "      <td>0</td>\n",
       "      <td>0</td>\n",
       "      <td>...</td>\n",
       "      <td>0</td>\n",
       "      <td>0</td>\n",
       "      <td>0</td>\n",
       "      <td>0</td>\n",
       "      <td>0</td>\n",
       "      <td>0</td>\n",
       "      <td>0</td>\n",
       "      <td>1</td>\n",
       "      <td>0</td>\n",
       "      <td>0</td>\n",
       "    </tr>\n",
       "    <tr>\n",
       "      <th>11101</th>\n",
       "      <td>54</td>\n",
       "      <td>6242</td>\n",
       "      <td>7</td>\n",
       "      <td>162</td>\n",
       "      <td>1</td>\n",
       "      <td>0</td>\n",
       "      <td>1</td>\n",
       "      <td>0</td>\n",
       "      <td>0</td>\n",
       "      <td>0</td>\n",
       "      <td>...</td>\n",
       "      <td>0</td>\n",
       "      <td>1</td>\n",
       "      <td>0</td>\n",
       "      <td>0</td>\n",
       "      <td>0</td>\n",
       "      <td>0</td>\n",
       "      <td>0</td>\n",
       "      <td>1</td>\n",
       "      <td>1</td>\n",
       "      <td>0</td>\n",
       "    </tr>\n",
       "    <tr>\n",
       "      <th>5294</th>\n",
       "      <td>32</td>\n",
       "      <td>3696</td>\n",
       "      <td>21</td>\n",
       "      <td>315</td>\n",
       "      <td>3</td>\n",
       "      <td>0</td>\n",
       "      <td>0</td>\n",
       "      <td>0</td>\n",
       "      <td>0</td>\n",
       "      <td>1</td>\n",
       "      <td>...</td>\n",
       "      <td>0</td>\n",
       "      <td>1</td>\n",
       "      <td>0</td>\n",
       "      <td>0</td>\n",
       "      <td>0</td>\n",
       "      <td>0</td>\n",
       "      <td>0</td>\n",
       "      <td>1</td>\n",
       "      <td>0</td>\n",
       "      <td>0</td>\n",
       "    </tr>\n",
       "    <tr>\n",
       "      <th>10077</th>\n",
       "      <td>43</td>\n",
       "      <td>5172</td>\n",
       "      <td>29</td>\n",
       "      <td>57</td>\n",
       "      <td>3</td>\n",
       "      <td>0</td>\n",
       "      <td>0</td>\n",
       "      <td>0</td>\n",
       "      <td>0</td>\n",
       "      <td>1</td>\n",
       "      <td>...</td>\n",
       "      <td>0</td>\n",
       "      <td>1</td>\n",
       "      <td>0</td>\n",
       "      <td>0</td>\n",
       "      <td>0</td>\n",
       "      <td>0</td>\n",
       "      <td>0</td>\n",
       "      <td>1</td>\n",
       "      <td>1</td>\n",
       "      <td>0</td>\n",
       "    </tr>\n",
       "    <tr>\n",
       "      <th>4111</th>\n",
       "      <td>38</td>\n",
       "      <td>557</td>\n",
       "      <td>16</td>\n",
       "      <td>1556</td>\n",
       "      <td>4</td>\n",
       "      <td>0</td>\n",
       "      <td>0</td>\n",
       "      <td>0</td>\n",
       "      <td>0</td>\n",
       "      <td>0</td>\n",
       "      <td>...</td>\n",
       "      <td>0</td>\n",
       "      <td>0</td>\n",
       "      <td>1</td>\n",
       "      <td>0</td>\n",
       "      <td>0</td>\n",
       "      <td>0</td>\n",
       "      <td>0</td>\n",
       "      <td>1</td>\n",
       "      <td>1</td>\n",
       "      <td>0</td>\n",
       "    </tr>\n",
       "  </tbody>\n",
       "</table>\n",
       "<p>2231 rows × 40 columns</p>\n",
       "</div>"
      ],
      "text/plain": [
       "       age  balance  day  duration  campaign  previous  job_blue-collar  \\\n",
       "7351    56     1561   13        75         1         0                0   \n",
       "9132    53      136   15        99         1         0                1   \n",
       "9221    30     -218   27        13        15         0                0   \n",
       "4548    72      763   24       384         2         0                0   \n",
       "10563   38        0   16       284         8         0                0   \n",
       "...    ...      ...  ...       ...       ...       ...              ...   \n",
       "9475    55      274    9         7         5         0                0   \n",
       "11101   54     6242    7       162         1         0                1   \n",
       "5294    32     3696   21       315         3         0                0   \n",
       "10077   43     5172   29        57         3         0                0   \n",
       "4111    38      557   16      1556         4         0                0   \n",
       "\n",
       "       job_entrepreneur  job_housemaid  job_management  ...  month_mar  \\\n",
       "7351                  0              0               0  ...          0   \n",
       "9132                  0              0               0  ...          0   \n",
       "9221                  0              0               1  ...          0   \n",
       "4548                  0              0               0  ...          0   \n",
       "10563                 0              0               0  ...          0   \n",
       "...                 ...            ...             ...  ...        ...   \n",
       "9475                  0              0               0  ...          0   \n",
       "11101                 0              0               0  ...          0   \n",
       "5294                  0              0               1  ...          0   \n",
       "10077                 0              0               1  ...          0   \n",
       "4111                  0              0               0  ...          0   \n",
       "\n",
       "       month_may  month_nov  month_oct  month_sep  poutcome_other  \\\n",
       "7351           0          0          0          0               0   \n",
       "9132           1          0          0          0               0   \n",
       "9221           0          0          0          0               0   \n",
       "4548           0          0          0          0               0   \n",
       "10563          0          0          0          0               0   \n",
       "...          ...        ...        ...        ...             ...   \n",
       "9475           0          0          0          0               0   \n",
       "11101          1          0          0          0               0   \n",
       "5294           1          0          0          0               0   \n",
       "10077          1          0          0          0               0   \n",
       "4111           0          1          0          0               0   \n",
       "\n",
       "       poutcome_success  poutcome_unknown  housing_new  loan_new  \n",
       "7351                  0                 1            0         0  \n",
       "9132                  0                 1            1         0  \n",
       "9221                  0                 1            1         0  \n",
       "4548                  0                 1            0         0  \n",
       "10563                 0                 1            1         0  \n",
       "...                 ...               ...          ...       ...  \n",
       "9475                  0                 1            0         0  \n",
       "11101                 0                 1            1         0  \n",
       "5294                  0                 1            0         0  \n",
       "10077                 0                 1            1         0  \n",
       "4111                  0                 1            1         0  \n",
       "\n",
       "[2231 rows x 40 columns]"
      ]
     },
     "execution_count": 59,
     "metadata": {},
     "output_type": "execute_result"
    }
   ],
   "source": [
    "X_test"
   ]
  },
  {
   "cell_type": "markdown",
   "id": "49647867",
   "metadata": {},
   "source": [
    "## Model Selection"
   ]
  },
  {
   "cell_type": "code",
   "execution_count": 60,
   "id": "81ad85cd",
   "metadata": {},
   "outputs": [],
   "source": [
    "# will try to use below two models that are Logistic Regression ,RandomForestClassifier and svm\n",
    "from sklearn.ensemble import RandomForestClassifier\n",
    "from sklearn.svm import SVC\n",
    "from sklearn.linear_model import LogisticRegression\n",
    "from sklearn.neighbors import KNeighborsClassifier\n",
    "from sklearn.naive_bayes import GaussianNB\n",
    "from sklearn.ensemble import GradientBoostingClassifier\n",
    "from sklearn.tree import DecisionTreeClassifier\n"
   ]
  },
  {
   "cell_type": "code",
   "execution_count": 61,
   "id": "a89b1838",
   "metadata": {},
   "outputs": [
    {
     "data": {
      "text/plain": [
       "0.8260869565217391"
      ]
     },
     "execution_count": 61,
     "metadata": {},
     "output_type": "execute_result"
    }
   ],
   "source": [
    "lr= LogisticRegression( fit_intercept=False, max_iter=1000)\n",
    "lr.fit(X_train,y_train)\n",
    "lr.score(X_test,y_test)"
   ]
  },
  {
   "cell_type": "code",
   "execution_count": 62,
   "id": "364894af",
   "metadata": {},
   "outputs": [
    {
     "data": {
      "text/plain": [
       "array([[0.84504125, 0.15495875],\n",
       "       [0.98296694, 0.01703306],\n",
       "       [0.97053394, 0.02946606],\n",
       "       ...,\n",
       "       [0.82421481, 0.17578519],\n",
       "       [0.98410897, 0.01589103],\n",
       "       [0.00416741, 0.99583259]])"
      ]
     },
     "execution_count": 62,
     "metadata": {},
     "output_type": "execute_result"
    }
   ],
   "source": [
    "lr.predict_proba(X_test)"
   ]
  },
  {
   "cell_type": "code",
   "execution_count": 63,
   "id": "b507c834",
   "metadata": {},
   "outputs": [],
   "source": [
    "model_LR=lr"
   ]
  },
  {
   "cell_type": "code",
   "execution_count": 65,
   "id": "1b2bd8c0",
   "metadata": {},
   "outputs": [],
   "source": [
    "y_predicted = model_LR.predict(X_test)"
   ]
  },
  {
   "cell_type": "code",
   "execution_count": 66,
   "id": "86cd6487",
   "metadata": {},
   "outputs": [],
   "source": [
    "from sklearn.neighbors import KNeighborsClassifier\n",
    "\n",
    "model_KNN = KNeighborsClassifier(n_neighbors=5)\n",
    "\n",
    "# Train the model using the training sets\n",
    "model_KNN.fit(X_train,y_train)\n",
    "\n",
    "#Predict Output\n",
    "predicted= model_KNN.predict(X_test) \n",
    "\n"
   ]
  },
  {
   "cell_type": "code",
   "execution_count": null,
   "id": "f32df7e2",
   "metadata": {},
   "outputs": [],
   "source": [
    "model_KNN.score(X_test,y_test)"
   ]
  },
  {
   "cell_type": "code",
   "execution_count": 67,
   "id": "d9b180d2",
   "metadata": {},
   "outputs": [
    {
     "data": {
      "text/plain": [
       "RandomForestClassifier(n_estimators=10)"
      ]
     },
     "execution_count": 67,
     "metadata": {},
     "output_type": "execute_result"
    }
   ],
   "source": [
    "model_RF= RandomForestClassifier(n_estimators=10)\n",
    "model_RF.fit(X_train,y_train)"
   ]
  },
  {
   "cell_type": "code",
   "execution_count": 68,
   "id": "6f6c4ccd",
   "metadata": {},
   "outputs": [
    {
     "data": {
      "text/plain": [
       "0.8319139399372478"
      ]
     },
     "execution_count": 68,
     "metadata": {},
     "output_type": "execute_result"
    }
   ],
   "source": [
    "model_RF.score(X_test,y_test)"
   ]
  },
  {
   "cell_type": "code",
   "execution_count": 69,
   "id": "1da7ec95",
   "metadata": {},
   "outputs": [],
   "source": [
    "y_predicted = model_RF.predict(X_test)"
   ]
  },
  {
   "cell_type": "code",
   "execution_count": 70,
   "id": "0dbca9e2",
   "metadata": {},
   "outputs": [
    {
     "data": {
      "text/plain": [
       "0.7355445988346033"
      ]
     },
     "execution_count": 70,
     "metadata": {},
     "output_type": "execute_result"
    }
   ],
   "source": [
    "model_NB = GaussianNB()\n",
    "model_NB.fit(X_train,y_train)\n",
    "model_NB.score(X_test,y_test)\n"
   ]
  },
  {
   "cell_type": "code",
   "execution_count": 71,
   "id": "a76cbbdb",
   "metadata": {},
   "outputs": [],
   "source": [
    "model_SV = SVC(C = 1,gamma = 10,kernel ='rbf')\n"
   ]
  },
  {
   "cell_type": "code",
   "execution_count": 72,
   "id": "351141fe",
   "metadata": {},
   "outputs": [
    {
     "data": {
      "text/plain": [
       "SVC(C=1, gamma=10)"
      ]
     },
     "execution_count": 72,
     "metadata": {},
     "output_type": "execute_result"
    }
   ],
   "source": [
    "model_SV.fit(X_train, y_train)"
   ]
  },
  {
   "cell_type": "code",
   "execution_count": 73,
   "id": "d11412bf",
   "metadata": {},
   "outputs": [],
   "source": [
    "y_pred1= model_SV.predict(X_test)"
   ]
  },
  {
   "cell_type": "code",
   "execution_count": 74,
   "id": "93582e61",
   "metadata": {},
   "outputs": [
    {
     "data": {
      "text/plain": [
       "0.5284625728372927"
      ]
     },
     "execution_count": 74,
     "metadata": {},
     "output_type": "execute_result"
    }
   ],
   "source": [
    "model_SV.score(X_test,y_test)"
   ]
  },
  {
   "cell_type": "code",
   "execution_count": 75,
   "id": "08b1157e",
   "metadata": {},
   "outputs": [
    {
     "data": {
      "text/plain": [
       "DecisionTreeClassifier()"
      ]
     },
     "execution_count": 75,
     "metadata": {},
     "output_type": "execute_result"
    }
   ],
   "source": [
    "model_DT=DecisionTreeClassifier()\n",
    "model_DT.fit(X_train,y_train)\n",
    "\n"
   ]
  },
  {
   "cell_type": "code",
   "execution_count": 76,
   "id": "7b838fcb",
   "metadata": {},
   "outputs": [
    {
     "data": {
      "text/plain": [
       "0.7974002689376961"
      ]
     },
     "execution_count": 76,
     "metadata": {},
     "output_type": "execute_result"
    }
   ],
   "source": [
    "model_DT.score(X_test,y_test)"
   ]
  },
  {
   "cell_type": "code",
   "execution_count": 77,
   "id": "95cc9056",
   "metadata": {},
   "outputs": [],
   "source": [
    "CLF = {'Classifiers': ['Logistic Reg.', 'SVC', 'KNN', 'Dec Tree', 'Rand F', 'Naives Bayes'], \n",
    "    ' Scores': [model_LR.score(X_test,y_test), model_SV.score(X_test,y_test), model_KNN.score(X_test,y_test), model_DT.score(X_test,y_test),  model_RF.score(X_test,y_test),  model_NB.score(X_test,y_test)]}"
   ]
  },
  {
   "cell_type": "code",
   "execution_count": 78,
   "id": "400262ea",
   "metadata": {},
   "outputs": [
    {
     "data": {
      "text/html": [
       "<div>\n",
       "<style scoped>\n",
       "    .dataframe tbody tr th:only-of-type {\n",
       "        vertical-align: middle;\n",
       "    }\n",
       "\n",
       "    .dataframe tbody tr th {\n",
       "        vertical-align: top;\n",
       "    }\n",
       "\n",
       "    .dataframe thead th {\n",
       "        text-align: right;\n",
       "    }\n",
       "</style>\n",
       "<table border=\"1\" class=\"dataframe\">\n",
       "  <thead>\n",
       "    <tr style=\"text-align: right;\">\n",
       "      <th></th>\n",
       "      <th>Classifiers</th>\n",
       "      <th>Scores</th>\n",
       "    </tr>\n",
       "  </thead>\n",
       "  <tbody>\n",
       "    <tr>\n",
       "      <th>0</th>\n",
       "      <td>Logistic Reg.</td>\n",
       "      <td>0.826087</td>\n",
       "    </tr>\n",
       "    <tr>\n",
       "      <th>1</th>\n",
       "      <td>SVC</td>\n",
       "      <td>0.528463</td>\n",
       "    </tr>\n",
       "    <tr>\n",
       "      <th>2</th>\n",
       "      <td>KNN</td>\n",
       "      <td>0.714030</td>\n",
       "    </tr>\n",
       "    <tr>\n",
       "      <th>3</th>\n",
       "      <td>Dec Tree</td>\n",
       "      <td>0.797400</td>\n",
       "    </tr>\n",
       "    <tr>\n",
       "      <th>4</th>\n",
       "      <td>Rand F</td>\n",
       "      <td>0.831914</td>\n",
       "    </tr>\n",
       "    <tr>\n",
       "      <th>5</th>\n",
       "      <td>Naives Bayes</td>\n",
       "      <td>0.735545</td>\n",
       "    </tr>\n",
       "  </tbody>\n",
       "</table>\n",
       "</div>"
      ],
      "text/plain": [
       "     Classifiers    Scores\n",
       "0  Logistic Reg.  0.826087\n",
       "1            SVC  0.528463\n",
       "2            KNN  0.714030\n",
       "3       Dec Tree  0.797400\n",
       "4         Rand F  0.831914\n",
       "5   Naives Bayes  0.735545"
      ]
     },
     "execution_count": 78,
     "metadata": {},
     "output_type": "execute_result"
    }
   ],
   "source": [
    "result_clf = pd.DataFrame(data=CLF)\n",
    "\n",
    "result_clf"
   ]
  },
  {
   "cell_type": "markdown",
   "id": "8e83ea20",
   "metadata": {},
   "source": [
    "####  crossvalidation"
   ]
  },
  {
   "cell_type": "code",
   "execution_count": 79,
   "id": "6ed98899",
   "metadata": {},
   "outputs": [
    {
     "name": "stdout",
     "output_type": "stream",
     "text": [
      "[0.5254902  0.52522422 0.52522422 0.52522422 0.52522422]\n"
     ]
    }
   ],
   "source": [
    "from sklearn.model_selection import cross_val_score\n",
    "from sklearn.metrics import roc_auc_score\n",
    "SV_score =cross_val_score(model_SV,X=X_train, y=y_train, cv=5)\n",
    "print(SV_score)\n",
    "svc_mean=SV_score.mean()\n",
    "#roc_auc_score(y_test, model_SV.predict_proba(X_test)[:,1])"
   ]
  },
  {
   "cell_type": "code",
   "execution_count": 80,
   "id": "7d4f9fc8",
   "metadata": {},
   "outputs": [
    {
     "name": "stdout",
     "output_type": "stream",
     "text": [
      "[0.85210084 0.84697309 0.84360987 0.85706278 0.85818386]\n"
     ]
    },
    {
     "data": {
      "text/plain": [
       "0.9015526788507372"
      ]
     },
     "execution_count": 80,
     "metadata": {},
     "output_type": "execute_result"
    }
   ],
   "source": [
    "rand_score =cross_val_score(estimator=RandomForestClassifier(),X=X_train, y=y_train, cv=5)\n",
    "print(rand_score)\n",
    "rand_mean=rand_score.mean()\n",
    "\n",
    "roc_auc_score(y_test, model_RF.predict_proba(X_test)[:,1])\n"
   ]
  },
  {
   "cell_type": "code",
   "execution_count": 81,
   "id": "49cc452f",
   "metadata": {},
   "outputs": [
    {
     "name": "stdout",
     "output_type": "stream",
     "text": [
      "[0.79887955 0.79484305 0.78587444 0.80773543 0.81278027]\n"
     ]
    },
    {
     "data": {
      "text/plain": [
       "0.9032530629488804"
      ]
     },
     "execution_count": 81,
     "metadata": {},
     "output_type": "execute_result"
    }
   ],
   "source": [
    "Log_reg_score =cross_val_score(estimator=LogisticRegression(),X=X_train, y=y_train, cv=5)\n",
    "print(Log_reg_score)\n",
    "log_reg_mean=Log_reg_score.mean()\n",
    "roc_auc_score(y_test, model_LR.predict_proba(X_test)[:,1])"
   ]
  },
  {
   "cell_type": "code",
   "execution_count": 82,
   "id": "41903206",
   "metadata": {},
   "outputs": [
    {
     "name": "stdout",
     "output_type": "stream",
     "text": [
      "[0.70644258 0.69786996 0.69843049 0.70571749 0.71300448]\n"
     ]
    },
    {
     "data": {
      "text/plain": [
       "0.7728394882561428"
      ]
     },
     "execution_count": 82,
     "metadata": {},
     "output_type": "execute_result"
    }
   ],
   "source": [
    "Knn_score =cross_val_score(estimator=KNeighborsClassifier(),X=X_train, y=y_train, cv=5)\n",
    "print(Knn_score)\n",
    "knn_mean=Knn_score.mean()\n",
    "roc_auc_score(y_test, model_KNN.predict_proba(X_test)[:,1])"
   ]
  },
  {
   "cell_type": "code",
   "execution_count": 83,
   "id": "988c4ffa",
   "metadata": {},
   "outputs": [
    {
     "name": "stdout",
     "output_type": "stream",
     "text": [
      "[0.71484594 0.72029148 0.72197309 0.72029148 0.74047085]\n"
     ]
    },
    {
     "data": {
      "text/plain": [
       "0.8356855716483326"
      ]
     },
     "execution_count": 83,
     "metadata": {},
     "output_type": "execute_result"
    }
   ],
   "source": [
    "model_score =cross_val_score(estimator=GaussianNB(),X=X_train, y=y_train, cv=5)\n",
    "print(model_score)\n",
    "nav_mean=model_score.mean()\n",
    "roc_auc_score(y_test, model_NB.predict_proba(X_test)[:,1])"
   ]
  },
  {
   "cell_type": "code",
   "execution_count": 84,
   "id": "39142054",
   "metadata": {},
   "outputs": [
    {
     "name": "stdout",
     "output_type": "stream",
     "text": [
      "[0.77927171 0.77410314 0.75840807 0.76008969 0.79988789]\n"
     ]
    },
    {
     "data": {
      "text/plain": [
       "0.7955128887340887"
      ]
     },
     "execution_count": 84,
     "metadata": {},
     "output_type": "execute_result"
    }
   ],
   "source": [
    "tree_score =cross_val_score(estimator=DecisionTreeClassifier(),X=X_train, y=y_train, cv=5)\n",
    "print(tree_score)\n",
    "tree_mean=tree_score.mean()\n",
    "roc_auc_score(y_test, model_DT.predict_proba(X_test)[:,1])"
   ]
  },
  {
   "cell_type": "code",
   "execution_count": 85,
   "id": "aba755fe",
   "metadata": {},
   "outputs": [],
   "source": [
    "d = {'Classifiers': ['Logistic Reg.', 'SVC', 'KNN', 'Dec Tree', 'Rand F', 'Naives Bayes'], \n",
    "    'Crossval Mean Scores': [log_reg_mean, svc_mean, knn_mean, tree_mean,  rand_mean,  nav_mean]}"
   ]
  },
  {
   "cell_type": "code",
   "execution_count": 86,
   "id": "dbbac001",
   "metadata": {},
   "outputs": [
    {
     "data": {
      "text/html": [
       "<div>\n",
       "<style scoped>\n",
       "    .dataframe tbody tr th:only-of-type {\n",
       "        vertical-align: middle;\n",
       "    }\n",
       "\n",
       "    .dataframe tbody tr th {\n",
       "        vertical-align: top;\n",
       "    }\n",
       "\n",
       "    .dataframe thead th {\n",
       "        text-align: right;\n",
       "    }\n",
       "</style>\n",
       "<table border=\"1\" class=\"dataframe\">\n",
       "  <thead>\n",
       "    <tr style=\"text-align: right;\">\n",
       "      <th></th>\n",
       "      <th>Classifiers</th>\n",
       "      <th>Crossval Mean Scores</th>\n",
       "    </tr>\n",
       "  </thead>\n",
       "  <tbody>\n",
       "    <tr>\n",
       "      <th>4</th>\n",
       "      <td>Rand F</td>\n",
       "      <td>0.851586</td>\n",
       "    </tr>\n",
       "    <tr>\n",
       "      <th>0</th>\n",
       "      <td>Logistic Reg.</td>\n",
       "      <td>0.800023</td>\n",
       "    </tr>\n",
       "    <tr>\n",
       "      <th>3</th>\n",
       "      <td>Dec Tree</td>\n",
       "      <td>0.774352</td>\n",
       "    </tr>\n",
       "    <tr>\n",
       "      <th>5</th>\n",
       "      <td>Naives Bayes</td>\n",
       "      <td>0.723575</td>\n",
       "    </tr>\n",
       "    <tr>\n",
       "      <th>2</th>\n",
       "      <td>KNN</td>\n",
       "      <td>0.704293</td>\n",
       "    </tr>\n",
       "    <tr>\n",
       "      <th>1</th>\n",
       "      <td>SVC</td>\n",
       "      <td>0.525277</td>\n",
       "    </tr>\n",
       "  </tbody>\n",
       "</table>\n",
       "</div>"
      ],
      "text/plain": [
       "     Classifiers  Crossval Mean Scores\n",
       "4         Rand F              0.851586\n",
       "0  Logistic Reg.              0.800023\n",
       "3       Dec Tree              0.774352\n",
       "5   Naives Bayes              0.723575\n",
       "2            KNN              0.704293\n",
       "1            SVC              0.525277"
      ]
     },
     "execution_count": 86,
     "metadata": {},
     "output_type": "execute_result"
    }
   ],
   "source": [
    "result_df = pd.DataFrame(data=d)\n",
    "result_df = result_df.sort_values(by=['Crossval Mean Scores'], ascending=False)\n",
    "result_df"
   ]
  },
  {
   "cell_type": "code",
   "execution_count": 87,
   "id": "6ffd7af2",
   "metadata": {},
   "outputs": [
    {
     "name": "stdout",
     "output_type": "stream",
     "text": [
      "KNN Classifier AUC_Score:  0.7728394882561428\n",
      "Random Forest Classifier AUC_Score:  0.9015526788507372\n",
      "Naives Bayes Classifier AUC_Score:  0.8356855716483326\n",
      "LogisticRegression AUC_Score:  0.9032530629488804\n",
      "DecisionTreeClassifier AUC_Score:  0.7955128887340887\n"
     ]
    }
   ],
   "source": [
    "from sklearn.metrics import roc_auc_score\n",
    "\n",
    "\n",
    "print('KNN Classifier AUC_Score: ',roc_auc_score(y_test, model_KNN.predict_proba(X_test)[:,1]) )\n",
    "print('Random Forest Classifier AUC_Score: ', roc_auc_score(y_test, model_RF.predict_proba(X_test)[:,1]))\n",
    "print('Naives Bayes Classifier AUC_Score: ',roc_auc_score(y_test, model_NB.predict_proba(X_test)[:,1]))\n",
    "print('LogisticRegression AUC_Score: ',roc_auc_score(y_test, model_LR.predict_proba(X_test)[:,1]))\n",
    "print('DecisionTreeClassifier AUC_Score: ', roc_auc_score(y_test, model_DT.predict_proba(X_test)[:,1]))\n",
    "#print('SV Classifier AUC_Score: ', roc_auc_score(y_test, model_SV.predict_proba(X_test)[:,1]))"
   ]
  },
  {
   "cell_type": "markdown",
   "id": "d261ea3c",
   "metadata": {},
   "source": [
    "### Hyperparameter Tuning"
   ]
  },
  {
   "cell_type": "code",
   "execution_count": 79,
   "id": "59f7f0a9",
   "metadata": {},
   "outputs": [],
   "source": [
    "#create param\n",
    "model_param = {\n",
    "    'RandomForestClassifier':{\n",
    "        'model':RandomForestClassifier(),\n",
    "        'param':{\n",
    "            'n_estimators': [10, 50, 100, 130], \n",
    "            'criterion': ['gini', 'entropy'],\n",
    "            'max_depth': range(2, 4, 1), \n",
    "            'max_features': ['auto', 'log2']\n",
    "        }\n",
    "    },\n",
    "    'logistic_regression' : {\n",
    "        'model': LogisticRegression(solver='liblinear',multi_class='auto'),\n",
    "        'param': {\n",
    "            'C': [1,5,10]\n",
    "        }\n",
    "    },\n",
    "    'svm':{\n",
    "       'model':SVC(gamma='auto'),\n",
    "        'param' : {\n",
    "            'C': [1,10,20],\n",
    "           'kernel': ['rbf']\n",
    "        }\n",
    "    },\n",
    "    'KNN_classifier':{\n",
    "       'model':KNeighborsClassifier( ),\n",
    "        'param' : {\n",
    "            'n_neighbors' : [5,7,9,11,13,15],\n",
    "               'weights' : ['uniform','distance'],\n",
    "               'metric' : ['minkowski','euclidean','manhattan']\n",
    "        }\n",
    "    },\n",
    "    'Decision_Tree':{\n",
    "        'model':DecisionTreeClassifier(),\n",
    "            'param' :{ \n",
    "                \n",
    " 'criterion':['gini', 'entropy'],\n",
    "                       'splitter':['best', 'random'],\n",
    "                         'max_depth':[4,5,6,7,8,9,10,11,12,15,20,30,40,50,70,90,120,150]\n",
    "        \n",
    "        }\n",
    "    },\n",
    "    'GaussianNB':{\n",
    "              'model': GaussianNB(),\n",
    "              'param': {}\n",
    "            \n",
    "        \n",
    "    }       \n",
    "}\n"
   ]
  },
  {
   "cell_type": "code",
   "execution_count": 80,
   "id": "e3fc7535",
   "metadata": {},
   "outputs": [
    {
     "data": {
      "text/html": [
       "<div>\n",
       "<style scoped>\n",
       "    .dataframe tbody tr th:only-of-type {\n",
       "        vertical-align: middle;\n",
       "    }\n",
       "\n",
       "    .dataframe tbody tr th {\n",
       "        vertical-align: top;\n",
       "    }\n",
       "\n",
       "    .dataframe thead th {\n",
       "        text-align: right;\n",
       "    }\n",
       "</style>\n",
       "<table border=\"1\" class=\"dataframe\">\n",
       "  <thead>\n",
       "    <tr style=\"text-align: right;\">\n",
       "      <th></th>\n",
       "      <th>model</th>\n",
       "      <th>best_score</th>\n",
       "      <th>best_params</th>\n",
       "    </tr>\n",
       "  </thead>\n",
       "  <tbody>\n",
       "    <tr>\n",
       "      <th>0</th>\n",
       "      <td>RandomForestClassifier</td>\n",
       "      <td>0.746058</td>\n",
       "      <td>{'criterion': 'gini', 'max_depth': 3, 'max_fea...</td>\n",
       "    </tr>\n",
       "    <tr>\n",
       "      <th>1</th>\n",
       "      <td>logistic_regression</td>\n",
       "      <td>0.787936</td>\n",
       "      <td>{'C': 5}</td>\n",
       "    </tr>\n",
       "    <tr>\n",
       "      <th>2</th>\n",
       "      <td>svm</td>\n",
       "      <td>0.526365</td>\n",
       "      <td>{'C': 1, 'kernel': 'rbf'}</td>\n",
       "    </tr>\n",
       "    <tr>\n",
       "      <th>3</th>\n",
       "      <td>KNN_classifier</td>\n",
       "      <td>0.730263</td>\n",
       "      <td>{'metric': 'manhattan', 'n_neighbors': 15, 'we...</td>\n",
       "    </tr>\n",
       "    <tr>\n",
       "      <th>4</th>\n",
       "      <td>Decision_Tree</td>\n",
       "      <td>0.779685</td>\n",
       "      <td>{'criterion': 'entropy', 'max_depth': 7, 'spli...</td>\n",
       "    </tr>\n",
       "    <tr>\n",
       "      <th>5</th>\n",
       "      <td>GaussianNB</td>\n",
       "      <td>0.705183</td>\n",
       "      <td>{}</td>\n",
       "    </tr>\n",
       "  </tbody>\n",
       "</table>\n",
       "</div>"
      ],
      "text/plain": [
       "                    model  best_score  \\\n",
       "0  RandomForestClassifier    0.746058   \n",
       "1     logistic_regression    0.787936   \n",
       "2                     svm    0.526365   \n",
       "3          KNN_classifier    0.730263   \n",
       "4           Decision_Tree    0.779685   \n",
       "5              GaussianNB    0.705183   \n",
       "\n",
       "                                         best_params  \n",
       "0  {'criterion': 'gini', 'max_depth': 3, 'max_fea...  \n",
       "1                                           {'C': 5}  \n",
       "2                          {'C': 1, 'kernel': 'rbf'}  \n",
       "3  {'metric': 'manhattan', 'n_neighbors': 15, 'we...  \n",
       "4  {'criterion': 'entropy', 'max_depth': 7, 'spli...  \n",
       "5                                                 {}  "
      ]
     },
     "execution_count": 80,
     "metadata": {},
     "output_type": "execute_result"
    }
   ],
   "source": [
    "from sklearn.model_selection import GridSearchCV\n",
    "import pandas as pd\n",
    "\n",
    "scores =[]\n",
    "for model_name, mp in model_param.items():\n",
    "    model_selection = GridSearchCV(estimator=mp['model'],param_grid=mp['param'],cv=5,return_train_score=True)\n",
    "    model_selection.fit(X,y)\n",
    "    scores.append({\n",
    "        'model': model_name,\n",
    "        'best_score': model_selection.best_score_,\n",
    "        'best_params': model_selection.best_params_\n",
    "    \n",
    "    })\n",
    "df = pd.DataFrame(scores,columns=['model','best_score','best_params'])\n",
    "df"
   ]
  },
  {
   "cell_type": "markdown",
   "id": "d36361d1",
   "metadata": {},
   "source": [
    "## Model Building"
   ]
  },
  {
   "cell_type": "code",
   "execution_count": 92,
   "id": "fe06e2bd",
   "metadata": {},
   "outputs": [],
   "source": [
    "#as per above results, Logistic Regression gives best result and hence selecting same to model building...\n",
    "model_LR = LogisticRegression(solver='liblinear',multi_class='auto',C=5)"
   ]
  },
  {
   "cell_type": "code",
   "execution_count": 93,
   "id": "a1907ab3",
   "metadata": {},
   "outputs": [
    {
     "data": {
      "text/plain": [
       "LogisticRegression(C=5, solver='liblinear')"
      ]
     },
     "execution_count": 93,
     "metadata": {},
     "output_type": "execute_result"
    }
   ],
   "source": [
    "model_LR.fit(X_train,y_train)"
   ]
  },
  {
   "cell_type": "code",
   "execution_count": 94,
   "id": "021195af",
   "metadata": {},
   "outputs": [
    {
     "data": {
      "text/plain": [
       "0.8296727924697445"
      ]
     },
     "execution_count": 94,
     "metadata": {},
     "output_type": "execute_result"
    }
   ],
   "source": [
    "model_LR.score(X_test,y_test)"
   ]
  },
  {
   "cell_type": "code",
   "execution_count": 97,
   "id": "627e9d02",
   "metadata": {},
   "outputs": [
    {
     "data": {
      "text/plain": [
       "0.8260869565217391"
      ]
     },
     "execution_count": 97,
     "metadata": {},
     "output_type": "execute_result"
    }
   ],
   "source": [
    "from sklearn.metrics import accuracy_score\n",
    "predictions = model_LR.predict(X_test)\n",
    "accuracy_score(y_test,predictions)"
   ]
  },
  {
   "cell_type": "code",
   "execution_count": 98,
   "id": "eff31e1a",
   "metadata": {},
   "outputs": [
    {
     "data": {
      "text/plain": [
       "0.8226656204461383"
      ]
     },
     "execution_count": 98,
     "metadata": {},
     "output_type": "execute_result"
    }
   ],
   "source": [
    "predictions2 = model_LR.predict(X_train)\n",
    "accuracy_score(y_train,predictions2)"
   ]
  },
  {
   "cell_type": "markdown",
   "id": "31b3d41d",
   "metadata": {},
   "source": [
    "#### Performance matrix"
   ]
  },
  {
   "cell_type": "code",
   "execution_count": 99,
   "id": "86781150",
   "metadata": {},
   "outputs": [
    {
     "data": {
      "text/plain": [
       "array([[999, 180],\n",
       "       [208, 844]], dtype=int64)"
      ]
     },
     "execution_count": 99,
     "metadata": {},
     "output_type": "execute_result"
    }
   ],
   "source": [
    "from sklearn.metrics import confusion_matrix,classification_report\n",
    "cm = confusion_matrix(y_test,predictions)\n",
    "cm"
   ]
  },
  {
   "cell_type": "code",
   "execution_count": 102,
   "id": "fb3b2412",
   "metadata": {},
   "outputs": [
    {
     "data": {
      "image/png": "[encoded data removed]",
      "text/plain": [
       "<Figure size 432x288 with 2 Axes>"
      ]
     },
     "metadata": {
      "needs_background": "light"
     },
     "output_type": "display_data"
    }
   ],
   "source": [
    "#plot the graph\n",
    "from matplotlib import pyplot as plt\n",
    "import seaborn as sn\n",
    "axes=sn.heatmap(cm,square =True, annot=True,fmt='d',cbar=True)\n",
    "axes.set_xlabel('Predicted')\n",
    "axes.set_ylabel('True Value')\n",
    "axes.set_title('Confusion Matrix')\n",
    "plt.show()"
   ]
  },
  {
   "cell_type": "code",
   "execution_count": 103,
   "id": "2328e142",
   "metadata": {},
   "outputs": [
    {
     "name": "stdout",
     "output_type": "stream",
     "text": [
      "              precision    recall  f1-score   support\n",
      "\n",
      "           0       0.83      0.85      0.84      1179\n",
      "           1       0.82      0.80      0.81      1052\n",
      "\n",
      "    accuracy                           0.83      2231\n",
      "   macro avg       0.83      0.82      0.83      2231\n",
      "weighted avg       0.83      0.83      0.83      2231\n",
      "\n"
     ]
    }
   ],
   "source": [
    "print(classification_report(y_test,predictions))"
   ]
  },
  {
   "cell_type": "code",
   "execution_count": 89,
   "id": "b8adea62",
   "metadata": {},
   "outputs": [
    {
     "data": {
      "text/plain": [
       "array([[0.84504125, 0.15495875],\n",
       "       [0.98296694, 0.01703306],\n",
       "       [0.97053394, 0.02946606],\n",
       "       ...,\n",
       "       [0.82421481, 0.17578519],\n",
       "       [0.98410897, 0.01589103],\n",
       "       [0.00416741, 0.99583259]])"
      ]
     },
     "execution_count": 89,
     "metadata": {},
     "output_type": "execute_result"
    }
   ],
   "source": [
    "# predict probabilities\n",
    "model_LR.predict_proba(X_test)"
   ]
  },
  {
   "cell_type": "code",
   "execution_count": 90,
   "id": "9ae23329",
   "metadata": {},
   "outputs": [
    {
     "data": {
      "text/plain": [
       "array([0.15495875, 0.01703306, 0.02946606, ..., 0.17578519, 0.01589103,\n",
       "       0.99583259])"
      ]
     },
     "execution_count": 90,
     "metadata": {},
     "output_type": "execute_result"
    }
   ],
   "source": [
    "model_LR.predict_proba(X_test)[:,1]"
   ]
  },
  {
   "cell_type": "code",
   "execution_count": 91,
   "id": "d0dca377",
   "metadata": {},
   "outputs": [
    {
     "data": {
      "image/png": "[encoded data removed]",
      "text/plain": [
       "<Figure size 576x432 with 1 Axes>"
      ]
     },
     "metadata": {},
     "output_type": "display_data"
    }
   ],
   "source": [
    "precision_value = []\n",
    "recall_value = []\n",
    "model_RF = LogisticRegression(random_state=42, max_iter=1000)\n",
    "model_RF.fit(X_train,y_train)              # use LogisticRegression algorithm \n",
    "\n",
    "for i in np.linspace(0,0.99,50):       # calculate the precision and recall value with different threshold\n",
    "    probas = model_RF.predict_proba(X_test)[:,1:]\n",
    "    predictions = np.where(probas >= i,1,0)   \n",
    "    errors = predictions-y_test.to_numpy().reshape(-1,1)    \n",
    "    fp = np.count_nonzero(errors == 1)\n",
    "    fn = np.count_nonzero(errors == -1)\n",
    "    tp = np.sum(np.where(np.logical_and(errors == 0, predictions == 1),1,0))\n",
    "    tn = np.sum(np.where(np.logical_and(errors == 0, predictions == 0),1,0))\n",
    "    precision = tp / np.sum(tp + fp)\n",
    "    precision_value.append(precision)\n",
    "    recall = tp / np.sum(tp + fn)\n",
    "    recall_value.append(recall)\n",
    "    \n",
    "plt.figure(figsize=(8,6))   # plot the trade off diagramm\n",
    "plt.title(\"Precision/Recall Trade-off\")    \n",
    "plt.plot(np.linspace(0,0.99,50), precision_value ,label=\"precision\",c=\"b\")\n",
    "plt.plot(np.linspace(0,0.99,50), recall_value,label=\"recall\",c=\"r\")\n",
    "plt.xlabel(\"Threshold\")\n",
    "plt.legend()\n",
    "plt.show()"
   ]
  },
  {
   "cell_type": "code",
   "execution_count": 111,
   "id": "561d69fc",
   "metadata": {},
   "outputs": [],
   "source": [
    "y_score=model_LR.predict_proba(X_test)[:,1]"
   ]
  },
  {
   "cell_type": "code",
   "execution_count": 114,
   "id": "bdb27ccd",
   "metadata": {},
   "outputs": [
    {
     "data": {
      "image/png": "[encoded data removed]",
      "text/plain": [
       "<Figure size 432x288 with 1 Axes>"
      ]
     },
     "metadata": {
      "needs_background": "light"
     },
     "output_type": "display_data"
    }
   ],
   "source": [
    "import matplotlib.pyplot as plt\n",
    "from sklearn.metrics import roc_curve,roc_auc_score\n",
    "%matplotlib inline\n",
    "fpr, tpr, thresholds = roc_curve(y_test,model_LR.predict_proba(X_test)[:,1],drop_intermediate=False)\n",
    "plt.xlim([0.0, 1.0])\n",
    "plt.ylim([0.0, 1.0])\n",
    "plt.title('ROC curve for Bank marketting classifier')\n",
    "plt.xlabel('False Positive Rate (1 - Specificity)')\n",
    "plt.ylabel('True Positive Rate (Sensitivity)')\n",
    "plt.plot(fpr, tpr,color='red',lw=3)\n",
    "plt.plot([0,1],[0,1],color='green',lw=1,linestyle='--')\n",
    "\n",
    "plt.grid()\n",
    "plt.show()"
   ]
  },
  {
   "cell_type": "code",
   "execution_count": 112,
   "id": "6e6ab07e",
   "metadata": {},
   "outputs": [
    {
     "data": {
      "text/plain": [
       "0.9032530629488804"
      ]
     },
     "execution_count": 112,
     "metadata": {},
     "output_type": "execute_result"
    }
   ],
   "source": [
    "roc_auc_score(y_test, y_score)"
   ]
  },
  {
   "cell_type": "markdown",
   "id": "bc3b122d",
   "metadata": {},
   "source": [
    "## Feature importance"
   ]
  },
  {
   "cell_type": "code",
   "execution_count": 96,
   "id": "565fc16a",
   "metadata": {},
   "outputs": [
    {
     "name": "stdout",
     "output_type": "stream",
     "text": [
      "Feature ranking:\n",
      "1. feature 3 (0.542375)\n",
      "2. feature 36 (0.138618)\n",
      "3. feature 23 (0.115625)\n",
      "4. feature 38 (0.057817)\n",
      "5. feature 30 (0.037941)\n",
      "6. feature 1 (0.035189)\n",
      "7. feature 0 (0.016755)\n",
      "8. feature 24 (0.012046)\n",
      "9. feature 31 (0.009219)\n",
      "10. feature 28 (0.007875)\n",
      "11. feature 37 (0.006794)\n",
      "12. feature 5 (0.005464)\n",
      "13. feature 2 (0.005219)\n",
      "14. feature 20 (0.003207)\n",
      "15. feature 18 (0.002129)\n",
      "16. feature 4 (0.001810)\n",
      "17. feature 17 (0.001336)\n",
      "18. feature 19 (0.000580)\n",
      "19. feature 21 (0.000000)\n",
      "20. feature 22 (0.000000)\n",
      "21. feature 35 (0.000000)\n",
      "22. feature 34 (0.000000)\n",
      "23. feature 33 (0.000000)\n",
      "24. feature 32 (0.000000)\n",
      "25. feature 29 (0.000000)\n",
      "26. feature 6 (0.000000)\n",
      "27. feature 7 (0.000000)\n",
      "28. feature 8 (0.000000)\n",
      "29. feature 9 (0.000000)\n",
      "30. feature 10 (0.000000)\n",
      "31. feature 11 (0.000000)\n",
      "32. feature 12 (0.000000)\n",
      "33. feature 13 (0.000000)\n",
      "34. feature 14 (0.000000)\n",
      "35. feature 15 (0.000000)\n",
      "36. feature 16 (0.000000)\n",
      "37. feature 27 (0.000000)\n",
      "38. feature 26 (0.000000)\n",
      "39. feature 25 (0.000000)\n",
      "40. feature 39 (0.000000)\n"
     ]
    },
    {
     "data": {
      "image/png": "[encoded data removed]",
      "text/plain": [
       "<Figure size 1080x576 with 1 Axes>"
      ]
     },
     "metadata": {
      "needs_background": "light"
     },
     "output_type": "display_data"
    }
   ],
   "source": [
    "\n",
    "from sklearn import tree\n",
    "from sklearn.tree import DecisionTreeClassifier\n",
    "tree = tree.DecisionTreeClassifier(\n",
    "    class_weight='balanced',\n",
    "    min_weight_fraction_leaf = 0.01\n",
    "    \n",
    ")\n",
    "\n",
    "\n",
    "\n",
    "tree = tree.fit(X_train, y_train)\n",
    "importances = tree.feature_importances_\n",
    "feature_names = df4.drop('deposit', axis=1).columns\n",
    "indices = np.argsort(importances)[::-1]\n",
    "\n",
    "# Print the feature ranking\n",
    "print(\"Feature ranking:\")\n",
    "\n",
    "for f in range(X_train.shape[1]):\n",
    "    print(\"%d. feature %d (%f)\" % (f + 1, indices[f], importances[indices[f]]))\n",
    "\n",
    "# Plot the feature importances of the forest\n",
    "def feature_importance_graph(indices, importances, feature_names):\n",
    "    plt.figure(figsize=(15,8))\n",
    "    plt.title(\"Determining Feature importances \\n with DecisionTreeClassifier\", fontsize=18)\n",
    "    plt.barh(range(len(indices)), importances[indices], color='#31B173',  align=\"center\")\n",
    "    plt.yticks(range(len(indices)), feature_names[indices], rotation='horizontal',fontsize=16)\n",
    "    plt.ylim([-1, len(indices)])\n",
    "    plt.axhline(y=1.85, xmin=0.21, xmax=0.952, color='k', linewidth=4, linestyle='--')\n",
    "    plt.text(0.30, 2.8, '46% Difference between \\n duration and contacts', color='k', fontsize=15)\n",
    "    \n",
    "feature_importance_graph(indices, importances, feature_names)\n",
    "plt.show()"
   ]
  }
 ],
 "metadata": {
  "kernelspec": {
   "display_name": "Python 3 (ipykernel)",
   "language": "python",
   "name": "python3"
  },
  "language_info": {
   "codemirror_mode": {
    "name": "ipython",
    "version": 3
   },
   "file_extension": ".py",
   "mimetype": "text/x-python",
   "name": "python",
   "nbconvert_exporter": "python",
   "pygments_lexer": "ipython3",
   "version": "3.8.8"
  }
 },
 "nbformat": 4,
 "nbformat_minor": 5
}
